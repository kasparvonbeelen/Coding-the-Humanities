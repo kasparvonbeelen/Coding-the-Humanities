{
 "cells": [
  {
   "cell_type": "code",
   "execution_count": 3,
   "metadata": {},
   "outputs": [
    {
     "name": "stdout",
     "output_type": "stream",
     "text": [
      "page_228735667216_2018_01_30_14_15_15/page_228735667216_2018_01_30_14_15_15.tab\n"
     ]
    }
   ],
   "source": [
    "folder = 'page_228735667216_2018_01_30_14_15_15/'\n",
    "file = 'page_228735667216_2018_01_30_14_15_15.tab'\n",
    "path = folder + file\n",
    "print(path)"
   ]
  },
  {
   "cell_type": "code",
   "execution_count": 14,
   "metadata": {},
   "outputs": [
    {
     "data": {
      "text/plain": [
       "'type\\tby\\tpost_id\\tpost_link\\tpost_message\\tpicture\\tfull_picture\\tlink\\tlink_domain\\tpost_published\\tpost_published_unix\\tpost_published_sql\\tlikes_count_fb\\tcomments_count_fb\\treactions_count_fb\\tshares_count_fb\\te'"
      ]
     },
     "execution_count": 14,
     "metadata": {},
     "output_type": "execute_result"
    }
   ],
   "source": [
    "table = open(path,'r').read().strip()\n",
    "table[:200]"
   ]
  },
  {
   "cell_type": "code",
   "execution_count": 15,
   "metadata": {},
   "outputs": [
    {
     "name": "stdout",
     "output_type": "stream",
     "text": [
      "type\tby\tpost_id\tpost_link\tpost_message\tpicture\tfull_picture\tlink\tlink_domain\tpost_published\tpost_published_unix\tpost_published_sql\tlikes_count_fb\tcomments_count_fb\treactions_count_fb\tshares_count_fb\tengagement_fb\n",
      "\n",
      "\n",
      "link\tpost_page_228735667216\t228735667216_10155517368632217\thttps://www.facebook.com/228735667216/posts/10155517368632217\t\"The internet-famous cat finally has something to smile about... 😾\"\thttps://external.xx.fbcdn.net/safe_image.php?d=AQDCA2lbK3sWr1WY&w=130&h=130&url=https%3A%2F%2Fichef.bbci.co.uk%2Fnews%2F1024%2Fbranded_news%2F71E1%2Fproduction%2F_99735192_gettyimages-459467912.jpg&cfs=1&_nc_hash=AQCJIzCyKQA6-Cq_\thttps://external.xx.fbcdn.net/safe_image.php?d=AQA7xwkwnnJniYAC&url=https%3A%2F%2Fichef.bbci.co.uk%2Fnews%2F1024%2Fbranded_news%2F71E1%2Fproduction%2F_99735192_gettyimages-459467912.jpg&_nc_hash=AQA4i_KKrL-wPQSV\thttp://bbc.in/2E7sQZ0\tbbc.in\t2018-01-24T23:45:07+0000\t1516837507\t\"2018-01-25 00:45:07\"\t8678\t1082\t12078\t1495\t14655\n",
      "\n",
      "\n",
      "video\tpost_page_228735667216\t228735667216_10155517247447217\thttps://www.facebook.com/228735667216/posts/10155517247447217\t\"These identical long-tailed macaques are the first monkey clones  created in a Chinese laboratory.   bbc.in/2n89M4B\"\thttps://scontent.xx.fbcdn.net/v/t15.0-10/p130x130/24599058_10155517250147217_5908849687523229696_n.jpg?oh=3b02e6753f5c5e8ec3ee975a6464c9f2&oe=5ADE4B9E\thttps://scontent.xx.fbcdn.net/v/t15.0-10/p720x720/24599058_10155517250147217_5908849687523229696_n.jpg?oh=c134bf63c877109ddc5ed2e5ac084a24&oe=5AE4B06C\thttps://www.facebook.com/bbcnews/videos/10155517247447217/\tfacebook.com\t2018-01-24T23:03:58+0000\t1516835038\t\"2018-01-25 00:03:58\"\t4201\t2308\t8705\t1937\t12950\n",
      "\n",
      "\n"
     ]
    }
   ],
   "source": [
    "rows = table.split('\\n')\n",
    "for i in rows[:3]:\n",
    "    print(i)\n",
    "    print('\\n')"
   ]
  },
  {
   "cell_type": "code",
   "execution_count": 16,
   "metadata": {},
   "outputs": [],
   "source": [
    "post2engagement = {}\n",
    "for row in rows[1:]:\n",
    "    cells = row.split('\\t')\n",
    "    text = cells[4]\n",
    "    engagement = cells[-1]\n",
    "    post2engagement[text] = int(engagement)"
   ]
  },
  {
   "cell_type": "code",
   "execution_count": 18,
   "metadata": {},
   "outputs": [
    {
     "data": {
      "text/plain": [
       "[('\"These babies are tackling bullying at school (via BBC World Hacks)\"',\n",
       "  148035),\n",
       " ('\"No cashiers  no lineups: inside Amazon s fully automated grocery store.\"',\n",
       "  68075),\n",
       " ('\"These crows are making hooks to help them get food... something that even chimps don t do. 🙉   (via BBC Science News)\"',\n",
       "  47755),\n",
       " ('\"The River Seine has bursts its banks in Paris - Metro lines and stations have been closed after France s wettest January for more than 100 years.  bbc.in/2BqhcFB\"',\n",
       "  38297),\n",
       " ('\"Simon Shelton took over the role of Tinky Winky in 1997 and quickly made it his own.\"',\n",
       "  24981),\n",
       " ('\" I ve just signed your death warrant.   A judge sentences disgraced US Olympics doctor Larry Nassar to 175 years and rejects his attempted apology.  http://bbc.in/2E4H4tt\"',\n",
       "  24210),\n",
       " ('\"Two 15-year-olds have been killed after a student opened fire at a school in Kentucky  US.\"',\n",
       "  20269),\n",
       " ('\" I’ve just signed your death warrant.    A judge has sentenced disgraced US Gymnastics doctor Larry Nassar to 175 years in prison for sexual abuse.\"',\n",
       "  19760),\n",
       " ('\"A 7.9-strength earthquake has hit off the coast of Alaska.\"', 17806),\n",
       " ('\"Patients in the corridors  ambulances backed up outside  exhausted staff. The BBC was given exclusive access to a hospital struggling to cope with NHS winter pressures.  (via BBC Lifestyle & Health News)\"',\n",
       "  15090)]"
      ]
     },
     "execution_count": 18,
     "metadata": {},
     "output_type": "execute_result"
    }
   ],
   "source": [
    "sorted(post2engagement.items(),key=lambda x:x[1],reverse=True)[:10]"
   ]
  },
  {
   "cell_type": "code",
   "execution_count": 27,
   "metadata": {},
   "outputs": [
    {
     "name": "stdout",
     "output_type": "stream",
     "text": [
      "Displaying 8 of 8 matches:\n",
      "g to the Commonwealth Games . 🏓 ( via BBC Sport Wales ) '' `` These crows are m\n",
      "g that even chimps don t do . 🙉 ( via BBC Science News ) '' `` Lots of people i\n",
      "t a school in Kentucky US . '' `` The BBC has obtained shocking footage from th\n",
      "cked up outside exhausted staff . The BBC was given exclusive access to a hospi\n",
      "ope with NHS winter pressures . ( via BBC Lifestyle & Health News ) '' `` Jazz \n",
      "are tackling bullying at school ( via BBC World Hacks ) '' `` The contenders fo\n",
      "ple to tell their stories too . ( via BBC South News ) '' `` You know how it fe\n",
      "et a daily digest of top stories from BBC News direct to your mobile via our Me\n"
     ]
    }
   ],
   "source": [
    "import nltk\n",
    "from nltk.tokenize import word_tokenize\n",
    "\n",
    "tokens_all = []\n",
    "for row in rows:\n",
    "    cells = row.split('\\t')\n",
    "    tokens = word_tokenize(cells[4])\n",
    "    tokens_all.extend(tokens)\n",
    "    \n",
    "nltk_text = nltk.text.Text(tokens_all)\n",
    "nltk_text.concordance('bbc')"
   ]
  }
 ],
 "metadata": {
  "kernelspec": {
   "display_name": "Python 3",
   "language": "python",
   "name": "python3"
  },
  "language_info": {
   "codemirror_mode": {
    "name": "ipython",
    "version": 3
   },
   "file_extension": ".py",
   "mimetype": "text/x-python",
   "name": "python",
   "nbconvert_exporter": "python",
   "pygments_lexer": "ipython3",
   "version": "3.6.3"
  }
 },
 "nbformat": 4,
 "nbformat_minor": 2
}
