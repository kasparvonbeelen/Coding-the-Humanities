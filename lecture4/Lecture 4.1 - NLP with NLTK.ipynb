{
 "cells": [
  {
   "cell_type": "markdown",
   "metadata": {},
   "source": [
    "# Lecture 4.1 - NLP with NLTK"
   ]
  },
  {
   "cell_type": "markdown",
   "metadata": {},
   "source": [
    "## Natural Language Processing"
   ]
  },
  {
   "cell_type": "markdown",
   "metadata": {},
   "source": [
    "Many of the examples below are taken from the [NLTK book](http://www.nltk.org/book/) Before we start, we should install all the required material. Run the cell below to install the tools and corpora. This can take a minute..."
   ]
  },
  {
   "cell_type": "markdown",
   "metadata": {},
   "source": [
    "Please run the cell below to install the additional material."
   ]
  },
  {
   "cell_type": "code",
   "execution_count": 2,
   "metadata": {
    "collapsed": true
   },
   "outputs": [],
   "source": [
    "import nltk\n",
    "nltk.download('book')"
   ]
  },
  {
   "cell_type": "markdown",
   "metadata": {},
   "source": [
    "## Introduction to Python's Natural Language Toolkit (NLTK)"
   ]
  },
  {
   "cell_type": "markdown",
   "metadata": {},
   "source": [
    "First, I demonstrate the power of the NLTK by inspecting some of the **prepared corpora** of this library. Later on, I show how you can build your own corpus, and unleash all the nice tools on **your own data**."
   ]
  },
  {
   "cell_type": "markdown",
   "metadata": {},
   "source": [
    "In the Digital Humanities, we often treat texts as *raw data*, as input for our programs. Interpretations arise from abstraction, for example, by counting word frequencies, analysing specific segments of a corpus (i.e. Key Word In Context, or KWIC analysis) or searching for patterns (i.e. collocations). \n",
    "\n",
    "NLTK provides several tools for both **processing** data and **interpreting** texts."
   ]
  },
  {
   "cell_type": "markdown",
   "metadata": {},
   "source": [
    "Let's see what corpora NLTK provides by loading the `book` module from the library."
   ]
  },
  {
   "cell_type": "code",
   "execution_count": 3,
   "metadata": {},
   "outputs": [
    {
     "name": "stdout",
     "output_type": "stream",
     "text": [
      "*** Introductory Examples for the NLTK Book ***\n",
      "Loading text1, ..., text9 and sent1, ..., sent9\n",
      "Type the name of the text or sentence to view it.\n",
      "Type: 'texts()' or 'sents()' to list the materials.\n",
      "text1: Moby Dick by Herman Melville 1851\n",
      "text2: Sense and Sensibility by Jane Austen 1811\n",
      "text3: The Book of Genesis\n",
      "text4: Inaugural Address Corpus\n",
      "text5: Chat Corpus\n",
      "text6: Monty Python and the Holy Grail\n",
      "text7: Wall Street Journal\n",
      "text8: Personals Corpus\n",
      "text9: The Man Who Was Thursday by G . K . Chesterton 1908\n"
     ]
    }
   ],
   "source": [
    "from nltk.book import *"
   ]
  },
  {
   "cell_type": "markdown",
   "metadata": {},
   "source": [
    "`from nltk.book import *` says as much as \"from NLTK's book module, load all items.\" This loads all the books that are processed in advance for further analysis."
   ]
  },
  {
   "cell_type": "markdown",
   "metadata": {},
   "source": [
    "From the above output, we discover that NLTK includes the script of 'Monty Python and the Holy Grail'. When we `print` text6 we (surprisingly) can not see the actual content yet."
   ]
  },
  {
   "cell_type": "code",
   "execution_count": null,
   "metadata": {
    "collapsed": true
   },
   "outputs": [],
   "source": [
    "print(text6)"
   ]
  },
  {
   "cell_type": "markdown",
   "metadata": {},
   "source": [
    "As a standard procedure, we should uncover the data type of the object we are dealing with."
   ]
  },
  {
   "cell_type": "code",
   "execution_count": null,
   "metadata": {
    "collapsed": true
   },
   "outputs": [],
   "source": [
    "print(type(text6))"
   ]
  },
  {
   "cell_type": "code",
   "execution_count": null,
   "metadata": {
    "collapsed": true
   },
   "outputs": [],
   "source": [
    "dir(text6)"
   ]
  },
  {
   "cell_type": "markdown",
   "metadata": {},
   "source": [
    "To text is stored in the `tokens` attribute. "
   ]
  },
  {
   "cell_type": "markdown",
   "metadata": {},
   "source": [
    "Let's print the first hundred tokens."
   ]
  },
  {
   "cell_type": "code",
   "execution_count": null,
   "metadata": {
    "collapsed": true
   },
   "outputs": [],
   "source": [
    "print(text6.tokens[:100])"
   ]
  },
  {
   "cell_type": "markdown",
   "metadata": {},
   "source": [
    "We see that the text is already properly tokenized (i.e. words and punctuation marks are properly separated from each other)."
   ]
  },
  {
   "cell_type": "markdown",
   "metadata": {},
   "source": [
    "But we can do more with this `Text` object. To view all the methods attached to this object, use Python's help function. You can ignore all those that start with a double underscore and scroll down."
   ]
  },
  {
   "cell_type": "code",
   "execution_count": null,
   "metadata": {
    "collapsed": true
   },
   "outputs": [],
   "source": [
    "help(nltk.text.Text)"
   ]
  },
  {
   "cell_type": "markdown",
   "metadata": {},
   "source": [
    "Let's inspect some of the methods attached to the `Text` object."
   ]
  },
  {
   "cell_type": "markdown",
   "metadata": {},
   "source": [
    "### `.concordance()`"
   ]
  },
  {
   "cell_type": "markdown",
   "metadata": {},
   "source": [
    "An oft-used technique for distant reading is **Keyword In Context Analysis** in which we centre a whole corpus on a specific word of interest. NLTK comes with a `concordance()` method that allows you to do just this. For example, how is the word 'grail' used in  'Monty Python and the Holy Grail'?"
   ]
  },
  {
   "cell_type": "code",
   "execution_count": null,
   "metadata": {
    "collapsed": true
   },
   "outputs": [],
   "source": [
    "help(nltk.text.Text.concordance)"
   ]
  },
  {
   "cell_type": "code",
   "execution_count": null,
   "metadata": {
    "collapsed": true
   },
   "outputs": [],
   "source": [
    "text6.concordance('grail')"
   ]
  },
  {
   "cell_type": "markdown",
   "metadata": {},
   "source": [
    "A more realistic research question would be: how have American presidents used 'democracy' in their Inaugural Addresses since 1861? Try to do this in the cell below."
   ]
  },
  {
   "cell_type": "code",
   "execution_count": null,
   "metadata": {
    "collapsed": true
   },
   "outputs": [],
   "source": [
    "text4.concordance('democracy')"
   ]
  },
  {
   "cell_type": "markdown",
   "metadata": {},
   "source": [
    "We can specify the number of hits to print with the `lines` argument."
   ]
  },
  {
   "cell_type": "code",
   "execution_count": null,
   "metadata": {
    "collapsed": true
   },
   "outputs": [],
   "source": [
    "text4.concordance('democracy',lines=100)"
   ]
  },
  {
   "cell_type": "markdown",
   "metadata": {},
   "source": [
    "What about 'monstrous' in Moby Dick?"
   ]
  },
  {
   "cell_type": "code",
   "execution_count": null,
   "metadata": {
    "collapsed": true
   },
   "outputs": [],
   "source": [
    "text1.concordance('monstrous')"
   ]
  },
  {
   "cell_type": "markdown",
   "metadata": {},
   "source": [
    "### `.similar()`"
   ]
  },
  {
   "cell_type": "markdown",
   "metadata": {},
   "source": [
    "`concordance()` shows words in their context. For example, we saw that monstrous occurred in contexts such as the \\_\\_\\_ pictures and a \\_\\_\\_ size. What other words appear in a **similar range of contexts**? We can find out by appending the term similar to the name of the text in question, then enter the word you want analyse within parentheses (don't forget to put a string between quotation marks):"
   ]
  },
  {
   "cell_type": "code",
   "execution_count": null,
   "metadata": {
    "collapsed": true
   },
   "outputs": [],
   "source": [
    "#text1: Moby Dick by Herman Melville 1851\n",
    "text1.similar(\"monstrous\")\n",
    "print('\\n')\n",
    "#text2: Sense and Sensibility by Jane Austen 1811\n",
    "text2.similar(\"monstrous\")"
   ]
  },
  {
   "cell_type": "markdown",
   "metadata": {},
   "source": [
    "Observe that we get **different results for different texts**. Austen uses this word quite differently from Melville; for her, monstrous has positive connotations and sometimes functions as an intensifier like the word very."
   ]
  },
  {
   "cell_type": "code",
   "execution_count": null,
   "metadata": {
    "collapsed": true
   },
   "outputs": [],
   "source": [
    "print(text5.similar(\"cool\"))\n",
    "print('\\n')\n",
    "print(text1.similar(\"cool\"))"
   ]
  },
  {
   "cell_type": "markdown",
   "metadata": {},
   "source": [
    "The method `common_contexts` allows us to **examine just the contexts** that are shared by two or more words, such as monstrous and very. We have to enclose these words by square brackets as well as parentheses, and separate them with a comma:"
   ]
  },
  {
   "cell_type": "code",
   "execution_count": null,
   "metadata": {
    "collapsed": true
   },
   "outputs": [],
   "source": [
    "text2.common_contexts([\"monstrous\", \"very\"])"
   ]
  },
  {
   "cell_type": "markdown",
   "metadata": {},
   "source": [
    "### `.dispersion_plot()`"
   ]
  },
  {
   "cell_type": "markdown",
   "metadata": {},
   "source": [
    "We can also determine the **location** of a word in the text: how many words from the beginning it appears. This **positional information** can be displayed using a dispersion plot. Each **stripe** represents an instance of a word, and each **row** represents the entire text. In 1.2 we see some striking patterns of word usage over the last 220 years (in an artificial text constructed by joining the texts of the Inaugural Address Corpus end-to-end). You can produce this plot as shown below. You might like to try more words (e.g., liberty, constitution), and different texts. Can you predict the dispersion of a word before you view it? As before, take care to get the quotes, commas, brackets and parentheses exactly right."
   ]
  },
  {
   "cell_type": "code",
   "execution_count": null,
   "metadata": {
    "collapsed": true
   },
   "outputs": [],
   "source": [
    "text4.dispersion_plot([\"citizens\", \"democracy\", \"freedom\", \"duties\", \"America\"])"
   ]
  },
  {
   "cell_type": "markdown",
   "metadata": {},
   "source": [
    "### `collocations`"
   ]
  },
  {
   "cell_type": "markdown",
   "metadata": {},
   "source": [
    "A collocation is a **sequence of words that occur together unusually often**. Thus *red wine* is a collocation, whereas *the wine* is not. A characteristic of collocations is that they are resistant to substitution with words that have similar senses; for example, maroon wine sounds definitely odd."
   ]
  },
  {
   "cell_type": "code",
   "execution_count": null,
   "metadata": {
    "collapsed": true
   },
   "outputs": [],
   "source": [
    "text1.collocations()"
   ]
  },
  {
   "cell_type": "markdown",
   "metadata": {},
   "source": [
    "### Back to the tokens"
   ]
  },
  {
   "cell_type": "markdown",
   "metadata": {},
   "source": [
    "Still, we still have not inspected the actual text. NLTK represents texts as a list (an inbuilt data type we encountered earlier). Let's find out where this information is hidden."
   ]
  },
  {
   "cell_type": "code",
   "execution_count": null,
   "metadata": {
    "collapsed": true
   },
   "outputs": [],
   "source": [
    "dir(text1)"
   ]
  },
  {
   "cell_type": "code",
   "execution_count": null,
   "metadata": {
    "collapsed": true
   },
   "outputs": [],
   "source": [
    "type(text1.tokens)"
   ]
  },
  {
   "cell_type": "markdown",
   "metadata": {},
   "source": [
    "`text1.tokens` returns a list, something which we are familiar with by now. So let's print the first hundred tokens of Moby Dick"
   ]
  },
  {
   "cell_type": "code",
   "execution_count": null,
   "metadata": {
    "collapsed": true
   },
   "outputs": [],
   "source": [
    "print(text1.tokens[:100])"
   ]
  },
  {
   "cell_type": "markdown",
   "metadata": {},
   "source": [
    "Let's determine the length of a text from start to finish, in terms of the **words and punctuation** symbols that appear--if you have a closer look at the output of the previous print statement, you'll see that it comprises punctuation marks as individual items. We use the function len to obtain the length of a list, which we'll apply here to the book of Moby Dick:"
   ]
  },
  {
   "cell_type": "code",
   "execution_count": null,
   "metadata": {
    "collapsed": true
   },
   "outputs": [],
   "source": [
    "print(len(text1.tokens))"
   ]
  },
  {
   "cell_type": "markdown",
   "metadata": {},
   "source": [
    "**Exercise**: Is \"Sense and Sensibility\" longer than \"Moby Dick\"?"
   ]
  },
  {
   "cell_type": "code",
   "execution_count": 5,
   "metadata": {},
   "outputs": [
    {
     "data": {
      "text/plain": [
       "False"
      ]
     },
     "execution_count": 5,
     "metadata": {},
     "output_type": "execute_result"
    }
   ],
   "source": [
    "len(text2.tokens) > len(text1.tokens)\n",
    "# actually this also works: len(text2) > len(text1)"
   ]
  },
  {
   "cell_type": "markdown",
   "metadata": {},
   "source": [
    "A **token** is the technical name for a **sequence of characters** — such as hairy, his, or :) — that we want to **treat as a group** (or **unit** of our analysis). When we count the number of tokens in a text, say, the phrase \"to be or not to be\", we are counting occurrences of these sequences. Thus, in our example phrase there are two occurrences of \"to\", two of \"be\", and one each of \"or\" and \"not\". \n",
    "\n",
    "But there are only **four distinct** vocabulary items in this phrase. How many distinct words does the book of Genesis contain? To work this out in Python, we have to pose the question slightly differently. The vocabulary of a text is just the **set of tokens** that it uses, since in a set, **all duplicates are collapsed together**. In Python we can obtain the vocabulary items of text3 with the command: `set(text3)`. When you do this, many screens of words will fly past. Now try the following:"
   ]
  },
  {
   "cell_type": "code",
   "execution_count": 6,
   "metadata": {},
   "outputs": [
    {
     "name": "stdout",
     "output_type": "stream",
     "text": [
      "44764\n",
      "2789\n"
     ]
    }
   ],
   "source": [
    "print(len(text3.tokens))\n",
    "print(len(set(text3.tokens)))"
   ]
  },
  {
   "cell_type": "markdown",
   "metadata": {},
   "source": [
    "Although it has 44,764 tokens, this book has only 2,789 distinct words, or \"word types.\" A word type is the form or spelling of the word independently of its specific occurrences in a text — that is, the word considered as a unique item of vocabulary. Our count of 2,789 items will include punctuation symbols, so we will generally call these unique items types instead of word types."
   ]
  },
  {
   "cell_type": "markdown",
   "metadata": {},
   "source": [
    "**Exercise**: does Moby Dick contain more types than Genesis?"
   ]
  },
  {
   "cell_type": "code",
   "execution_count": 7,
   "metadata": {},
   "outputs": [
    {
     "data": {
      "text/plain": [
       "True"
      ]
     },
     "execution_count": 7,
     "metadata": {},
     "output_type": "execute_result"
    }
   ],
   "source": [
    "len(set(text1)) > len(set(text3))"
   ]
  },
  {
   "cell_type": "markdown",
   "metadata": {},
   "source": [
    "Now, let's calculate a measure of the **lexical richness** of the text. The next example shows us that the number of **distinct words** is just 6% of the total number of words, or equivalently that each word is used 16 times on average"
   ]
  },
  {
   "cell_type": "code",
   "execution_count": 8,
   "metadata": {},
   "outputs": [
    {
     "data": {
      "text/plain": [
       "0.06230453042623537"
      ]
     },
     "execution_count": 8,
     "metadata": {},
     "output_type": "execute_result"
    }
   ],
   "source": [
    "len(set(text3.tokens)) / len(text3.tokens)"
   ]
  },
  {
   "cell_type": "markdown",
   "metadata": {},
   "source": [
    "Next, let's focus on particular words. We can count **how often a word occurs** in a text, and compute what percentage of the text is taken up by a specific word:"
   ]
  },
  {
   "cell_type": "code",
   "execution_count": null,
   "metadata": {
    "collapsed": true
   },
   "outputs": [],
   "source": [
    "print(100 * text1.count('whale') / len(text1))\n",
    "print(100 * text3.count('whale') / len(text3))"
   ]
  },
  {
   "cell_type": "markdown",
   "metadata": {},
   "source": [
    "You may want to repeat such calculations on several texts, but it is tedious to keep retyping the formula. Instead, you can come up with your own name for a task, like \"lexical_diversity\" or \"percentage\", and associate it with a block of code. Now you only have to type a short name instead of one or more complete lines of Python code, and you can **re-use** it as often as you like. The block of code that does a task for us is called a **function**, and we define a **short name** for our function with the **keyword def**. The next example shows how to define two new functions, lexical_diversity() and  percentage():"
   ]
  },
  {
   "cell_type": "code",
   "execution_count": 10,
   "metadata": {
    "collapsed": true
   },
   "outputs": [],
   "source": [
    "def lexical_diversity(text):\n",
    "        return len(set(text)) / len(text)\n",
    "    \n",
    "def percentage(count, total):\n",
    "        return 100 * count / total\n"
   ]
  },
  {
   "cell_type": "code",
   "execution_count": null,
   "metadata": {
    "collapsed": true
   },
   "outputs": [],
   "source": [
    "lexical_diversity(text3)"
   ]
  },
  {
   "cell_type": "markdown",
   "metadata": {},
   "source": [
    "**Exercise**: print the percentage of the word 'poor' in the Genesis using the percentage function"
   ]
  },
  {
   "cell_type": "code",
   "execution_count": 11,
   "metadata": {},
   "outputs": [
    {
     "name": "stdout",
     "output_type": "stream",
     "text": [
      "0.002233937985881512\n"
     ]
    }
   ],
   "source": [
    "count = text3.count('poor')\n",
    "total = len(text3)\n",
    "print(percentage(count,total))"
   ]
  },
  {
   "cell_type": "markdown",
   "metadata": {},
   "source": [
    "We could make the `percentage` function a bit more useful:"
   ]
  },
  {
   "cell_type": "code",
   "execution_count": 13,
   "metadata": {},
   "outputs": [
    {
     "name": "stdout",
     "output_type": "stream",
     "text": [
      "0.002233937985881512\n"
     ]
    }
   ],
   "source": [
    "def percentage(word, text):\n",
    "    count = text.count(word)\n",
    "    total = len(text)\n",
    "    return 100 * count / total\n",
    "\n",
    "print(percentage('poor',text3))"
   ]
  },
  {
   "cell_type": "markdown",
   "metadata": {},
   "source": [
    "**Exercise**: Which texts talk most often about 'love'?"
   ]
  },
  {
   "cell_type": "code",
   "execution_count": 20,
   "metadata": {},
   "outputs": [
    {
     "name": "stdout",
     "output_type": "stream",
     "text": [
      "The highest count for word love is found in book <Text: Sense and Sensibility by Jane Austen 1811> and is equal to 77\n"
     ]
    }
   ],
   "source": [
    "word_to_count = 'love'\n",
    "\n",
    "maximum = text1.count(word_to_count)\n",
    "book = str(text1)\n",
    "\n",
    "for text in [text1,text2,text3,text4,text5,text6,text7,text8,text9]:\n",
    "    count = text.count(word_to_count)\n",
    "    if count > maximum:\n",
    "        maximum = count\n",
    "        book = str(text)\n",
    "        \n",
    "print('The highest count for word ' + word_to_count+ ' is found in book ' + book +' and is equal to '+ str(maximum))"
   ]
  },
  {
   "cell_type": "markdown",
   "metadata": {},
   "source": [
    "Below I explain what happens in the code above by adding explanations using the # and adding print statements. Basically, we first assume the maximum value is zero and loop over the other texts. For each text, we check how often the word 'love' occurs. If our search term appears more often we replace the variable `maximum` with the value of the variable `count`. Then we go the next text. The variable `maximum` saves the highest values encountered so far."
   ]
  },
  {
   "cell_type": "code",
   "execution_count": 37,
   "metadata": {},
   "outputs": [
    {
     "name": "stdout",
     "output_type": "stream",
     "text": [
      "The word love appears 24 times in <Text: Moby Dick by Herman Melville 1851>\n",
      "The existing maximum value at this stage is 0\n",
      "\n",
      "!!! Something important happening here. Replacing maximum value!\n",
      "Because 24 > 0 we replace the maximum value\n",
      "The maximum value is now equal to 24 and is found in <Text: Moby Dick by Herman Melville 1851>\n",
      "End of the if condition.\n",
      "\n",
      "The word love appears 77 times in <Text: Sense and Sensibility by Jane Austen 1811>\n",
      "The existing maximum value at this stage is 24\n",
      "\n",
      "!!! Something important happening here. Replacing maximum value!\n",
      "Because 77 > 24 we replace the maximum value\n",
      "The maximum value is now equal to 77 and is found in <Text: Sense and Sensibility by Jane Austen 1811>\n",
      "End of the if condition.\n",
      "\n",
      "The word love appears 4 times in <Text: The Book of Genesis>\n",
      "The existing maximum value at this stage is 77\n",
      "Because 4 < 77 we do not replace the maximum value\n",
      "\n",
      "The word love appears 49 times in <Text: Inaugural Address Corpus>\n",
      "The existing maximum value at this stage is 77\n",
      "Because 49 < 77 we do not replace the maximum value\n",
      "\n",
      "The word love appears 60 times in <Text: Chat Corpus>\n",
      "The existing maximum value at this stage is 77\n",
      "Because 60 < 77 we do not replace the maximum value\n",
      "\n",
      "The word love appears 0 times in <Text: Monty Python and the Holy Grail>\n",
      "The existing maximum value at this stage is 77\n",
      "Because 0 < 77 we do not replace the maximum value\n",
      "\n",
      "The word love appears 0 times in <Text: Wall Street Journal>\n",
      "The existing maximum value at this stage is 77\n",
      "Because 0 < 77 we do not replace the maximum value\n",
      "\n",
      "The word love appears 6 times in <Text: Personals Corpus>\n",
      "The existing maximum value at this stage is 77\n",
      "Because 6 < 77 we do not replace the maximum value\n",
      "\n",
      "The word love appears 8 times in <Text: The Man Who Was Thursday by G . K . Chesterton 1908>\n",
      "The existing maximum value at this stage is 77\n",
      "Because 8 < 77 we do not replace the maximum value\n",
      "\n",
      "The highest count for word love is found in book <Text: Sense and Sensibility by Jane Austen 1811> and is equal to 77\n"
     ]
    }
   ],
   "source": [
    "word_to_count = 'love' # define the word you want to\n",
    "\n",
    "maximum = 0 # assume maximum is zero\n",
    "book = '' # assume no book is found\n",
    "\n",
    "for text in [text1,text2,text3,text4,text5,text6,text7,text8,text9]: # loop over all texts\n",
    "    count = text.count(word_to_count) # count how often the word appears in this text\n",
    "    print('The word '+ word_to_count +' appears '+ str(count) + ' times in ' + str(text) )\n",
    "    print('The existing maximum value at this stage is ' + str(maximum) )\n",
    "    if count > maximum: # check if this count is higher as the current maximum value\n",
    "        print('\\n!!! Something important happening here. Replacing maximum value!')\n",
    "        print('Because ' + str(count) + ' > ' + str(maximum) + ' we replace the maximum value')\n",
    "        maximum = count # if so, replace the value for the variable maximum with the one that is stored in count\n",
    "        book = str(text) # this is just a nice addition, so we can later check which book\n",
    "        print('The maximum value is now equal to ' + str(maximum) + ' and is found in ' + str(text))\n",
    "        print('End of the if condition.\\n')\n",
    "    else:\n",
    "        print('Because ' + str(count) + ' < ' + str(maximum) + ' we do not replace the maximum value\\n')\n",
    "        \n",
    "print('The highest count for word ' + word_to_count+ ' is found in book ' + book +' and is equal to '+ str(maximum))"
   ]
  },
  {
   "cell_type": "markdown",
   "metadata": {},
   "source": [
    "Now change the term to search for to 'war' and see what happens!"
   ]
  },
  {
   "cell_type": "markdown",
   "metadata": {},
   "source": [
    "**Exercise**: Which of books listed above has the highest lexical diversity? If we do not have a good guess for `maximum` we just take an arbitrary book and compare its lexical diversity to the others."
   ]
  },
  {
   "cell_type": "code",
   "execution_count": 41,
   "metadata": {},
   "outputs": [
    {
     "name": "stdout",
     "output_type": "stream",
     "text": [
      "The existing maximum lexical diversity at this iteration is 0.07406285585022564\n",
      "<Text: Moby Dick by Herman Melville 1851> has a lexical diversity of  0.07406285585022564\n",
      "Because 0.07406285585022564 < 0.07406285585022564 we do not replace the maximum value\n",
      "\n",
      "The existing maximum lexical diversity at this iteration is 0.07406285585022564\n",
      "<Text: Sense and Sensibility by Jane Austen 1811> has a lexical diversity of  0.04826383002768831\n",
      "Because 0.04826383002768831 < 0.07406285585022564 we do not replace the maximum value\n",
      "\n",
      "The existing maximum lexical diversity at this iteration is 0.07406285585022564\n",
      "<Text: The Book of Genesis> has a lexical diversity of  0.06230453042623537\n",
      "Because 0.06230453042623537 < 0.07406285585022564 we do not replace the maximum value\n",
      "\n",
      "The existing maximum lexical diversity at this iteration is 0.07406285585022564\n",
      "<Text: Inaugural Address Corpus> has a lexical diversity of  0.06692970116993173\n",
      "Because 0.06692970116993173 < 0.07406285585022564 we do not replace the maximum value\n",
      "\n",
      "The existing maximum lexical diversity at this iteration is 0.07406285585022564\n",
      "<Text: Chat Corpus> has a lexical diversity of  0.13477005109975562\n",
      "\n",
      "!!! Something important happening here. Replacing maximum value!\n",
      "Because 0.13477005109975562 > 0.07406285585022564 we replace the maximum value\n",
      "The maximum value is now equal to 8 and is found in <Text: Chat Corpus>\n",
      "End of the if condition.\n",
      "\n",
      "The existing maximum lexical diversity at this iteration is 8\n",
      "<Text: Monty Python and the Holy Grail> has a lexical diversity of  0.1276595744680851\n",
      "Because 0.1276595744680851 < 8 we do not replace the maximum value\n",
      "\n",
      "The existing maximum lexical diversity at this iteration is 8\n",
      "<Text: Wall Street Journal> has a lexical diversity of  0.12324685128531129\n",
      "Because 0.12324685128531129 < 8 we do not replace the maximum value\n",
      "\n",
      "The existing maximum lexical diversity at this iteration is 8\n",
      "<Text: Personals Corpus> has a lexical diversity of  0.22765564002465585\n",
      "Because 0.22765564002465585 < 8 we do not replace the maximum value\n",
      "\n",
      "The existing maximum lexical diversity at this iteration is 8\n",
      "<Text: The Man Who Was Thursday by G . K . Chesterton 1908> has a lexical diversity of  0.0983485761345412\n",
      "Because 0.0983485761345412 < 8 we do not replace the maximum value\n",
      "\n",
      "The highest lexial diversity of 8 is found in book <Text: Chat Corpus>\n"
     ]
    }
   ],
   "source": [
    "word_to_count = 'love' # define the word you want to\n",
    "\n",
    "maximum = lexical_diversity(text1) # assume maximum is equal to text1\n",
    "book = '' # assume no book is found\n",
    "\n",
    "for text in [text1,text2,text3,text4,text5,text6,text7,text8,text9]: # loop over all texts\n",
    "    div = lexical_diversity(text) \n",
    "    print('The existing maximum lexical diversity at this iteration is ' + str(maximum))\n",
    "    print(str(text) + ' has a lexical diversity of ',str(div)) \n",
    "    if div > maximum: # check if this count is higher as the current maximum value\n",
    "        print('\\n!!! Something important happening here. Replacing maximum value!')\n",
    "        print('Because ' + str(div) + ' > ' + str(maximum) + ' we replace the maximum value')\n",
    "        maximum = count # if so, replace the value for the variable maximum with the one that is stored in div\n",
    "        book = str(text) # this is just a nice addition, so we can later check which book\n",
    "        print('The maximum value is now equal to ' + str(maximum) + ' and is found in ' + str(text))\n",
    "        print('End of the if condition.\\n')\n",
    "    else:\n",
    "        print('Because ' + str(div) + ' < ' + str(maximum) + ' we do not replace the maximum value\\n')\n",
    "        \n",
    "print('The highest lexial diversity of ' + str(maximum) + ' is found in book ' + book)"
   ]
  },
  {
   "cell_type": "markdown",
   "metadata": {},
   "source": [
    "## Preprocessing"
   ]
  },
  {
   "cell_type": "markdown",
   "metadata": {},
   "source": [
    "Up to this point, you might wonder: what if I want to investigate *other* texts? Of course, this is possible but requires some *preprocessing* steps. We have to **tokenize** the document on your computer or on the Web (which is just a sequence of characters) to an NLTK `Text` object.\n",
    "\n",
    "Before we do this, let's inspects some of NLTK's preprocessing tools.\n",
    "\n",
    "In the previous lecture, we have already covered a few common preprocessing steps such a removing punctuation and lower casing. Here we will take a slightly different route because NLTK takes cares of many of issues that required these steps."
   ]
  },
  {
   "cell_type": "markdown",
   "metadata": {},
   "source": [
    "### Sentence Tokenization"
   ]
  },
  {
   "cell_type": "markdown",
   "metadata": {},
   "source": [
    "Often it is useful to process a text by sentence, if we want, for example, inquire the use of different words within its meaningful context. "
   ]
  },
  {
   "cell_type": "code",
   "execution_count": 42,
   "metadata": {},
   "outputs": [
    {
     "data": {
      "text/plain": [
       "['This is a sentence.', 'And this another one!']"
      ]
     },
     "execution_count": 42,
     "metadata": {},
     "output_type": "execute_result"
    }
   ],
   "source": [
    "from nltk.tokenize import sent_tokenize\n",
    "book = 'This is a sentence. And this another one!'\n",
    "sent_tokenize(book)"
   ]
  },
  {
   "cell_type": "markdown",
   "metadata": {},
   "source": [
    "**Exercise**: How many sentences does Tolstoy's 'War and Peace' contain (approximately)?"
   ]
  },
  {
   "cell_type": "code",
   "execution_count": 45,
   "metadata": {},
   "outputs": [
    {
     "name": "stdout",
     "output_type": "stream",
     "text": [
      "26547\n"
     ]
    }
   ],
   "source": [
    "import requests\n",
    "data = requests.get('http://www.gutenberg.org/files/2600/2600-0.txt').text\n",
    "sents = sent_tokenize(data)\n",
    "print(len(sents))"
   ]
  },
  {
   "cell_type": "markdown",
   "metadata": {},
   "source": [
    "### Word Tokenization"
   ]
  },
  {
   "cell_type": "markdown",
   "metadata": {},
   "source": [
    "As alluded to earlier, 'tokens' are the minimal units for the machine to process. We often simply equated this with words, which, in turn, were defined as everything between to whitespaces--but the relationship is more complex. Luckily, NLTK comes with many ready-made tools for splitting strings into tokens."
   ]
  },
  {
   "cell_type": "code",
   "execution_count": 46,
   "metadata": {
    "collapsed": true
   },
   "outputs": [],
   "source": [
    "from nltk.tokenize import word_tokenize"
   ]
  },
  {
   "cell_type": "code",
   "execution_count": null,
   "metadata": {
    "collapsed": true
   },
   "outputs": [],
   "source": [
    "sentence = \"On the 12th of August, 18-- (just three days after my tenth birthday, when I had been given such wonderful presents), I was awakened at seveno’clock in the morning by Karl Ivanitch slapping the wall close to my head with a fly-flap made of sugar paper and a stick.\""
   ]
  },
  {
   "cell_type": "code",
   "execution_count": null,
   "metadata": {
    "collapsed": true
   },
   "outputs": [],
   "source": [
    "print(word_tokenize(sentence))"
   ]
  },
  {
   "cell_type": "markdown",
   "metadata": {},
   "source": [
    "There is not one \"correct\" method for tokenizing texts. Therefore NLTK comes with many different tokenizers. What are their differences?"
   ]
  },
  {
   "cell_type": "code",
   "execution_count": null,
   "metadata": {
    "collapsed": true
   },
   "outputs": [],
   "source": [
    "from nltk.tokenize import regexp_tokenize, wordpunct_tokenize"
   ]
  },
  {
   "cell_type": "code",
   "execution_count": null,
   "metadata": {
    "collapsed": true
   },
   "outputs": [],
   "source": [
    "print(sentence.split())"
   ]
  },
  {
   "cell_type": "code",
   "execution_count": null,
   "metadata": {
    "collapsed": true
   },
   "outputs": [],
   "source": [
    "print(regexp_tokenize(sentence, pattern='\\w+'))"
   ]
  },
  {
   "cell_type": "code",
   "execution_count": null,
   "metadata": {
    "collapsed": true
   },
   "outputs": [],
   "source": [
    "print(wordpunct_tokenize(sentence))"
   ]
  },
  {
   "cell_type": "markdown",
   "metadata": {},
   "source": [
    "**Exercise**: How many tokens are there in 'War and Peace'? How many unique words?"
   ]
  },
  {
   "cell_type": "code",
   "execution_count": 47,
   "metadata": {},
   "outputs": [
    {
     "name": "stdout",
     "output_type": "stream",
     "text": [
      "674585\n",
      "22665\n"
     ]
    }
   ],
   "source": [
    "tokens = word_tokenize(data)\n",
    "print(len(tokens))\n",
    "print(len(set(tokens)))"
   ]
  },
  {
   "cell_type": "markdown",
   "metadata": {},
   "source": [
    "**Exercise**: read in Hobbes' \"Leviathan\", lowercase the whole book, split it by sentence, and then tokenize each sentence into words.\n",
    "> To lowercase use the `lowercase()` method."
   ]
  },
  {
   "cell_type": "code",
   "execution_count": 77,
   "metadata": {},
   "outputs": [
    {
     "name": "stdout",
     "output_type": "stream",
     "text": [
      "6038\n"
     ]
    }
   ],
   "source": [
    "url = 'http://www.gutenberg.org/cache/epub/3207/pg3207.txt'\n",
    "data = requests.get(url).text\n",
    "sentences = sent_tokenize(data) # tokenize the text by sentence\n",
    "\n",
    "tokenized_sentences = [] # create an empty variable where we store the text tokenized first by sentence and then by word\n",
    "\n",
    "for sentence in sentences: # loop over all sentences\n",
    "    sentence_lower = sentence.lower() # lowercase the sentence\n",
    "    sentence_tokens = word_tokenize(sentence_lower) # tokenize the sentence\n",
    "    tokenized_sentences.append(sentence_tokens) # save the tokenized sentence to the list with the name tokenized_sentences\n",
    "    \n",
    "print(len(tokenized_sentences))"
   ]
  },
  {
   "cell_type": "code",
   "execution_count": 78,
   "metadata": {},
   "outputs": [
    {
     "name": "stdout",
     "output_type": "stream",
     "text": [
      "[['he', 'that', 'is', 'to', 'govern', 'a', 'whole', 'nation', ',', 'must', 'read', 'in', 'himselfe', ',', 'not', 'this', ',', 'or', 'that', 'particular', 'man', ';', 'but', 'man-kind', ';', 'which', 'though', 'it', 'be', 'hard', 'to', 'do', ',', 'harder', 'than', 'to', 'learn', 'any', 'language', ',', 'or', 'science', ';', 'yet', ',', 'when', 'i', 'shall', 'have', 'set', 'down', 'my', 'own', 'reading', 'orderly', ',', 'and', 'perspicuously', ',', 'the', 'pains', 'left', 'another', ',', 'will', 'be', 'onely', 'to', 'consider', ',', 'if', 'he', 'also', 'find', 'not', 'the', 'same', 'in', 'himselfe', '.'], ['for', 'this', 'kind', 'of', 'doctrine', ',', 'admitteth', 'no', 'other', 'demonstration', '.'], ['part', '1', 'of', 'man', 'chapter', 'i', '.'], ['of', 'sense', 'concerning', 'the', 'thoughts', 'of', 'man', ',', 'i', 'will', 'consider', 'them', 'first', 'singly', ',', 'and', 'afterwards', 'in', 'trayne', ',', 'or', 'dependance', 'upon', 'one', 'another', '.'], ['singly', ',', 'they', 'are', 'every', 'one', 'a', 'representation', 'or', 'apparence', ',', 'of', 'some', 'quality', ',', 'or', 'other', 'accident', 'of', 'a', 'body', 'without', 'us', ';', 'which', 'is', 'commonly', 'called', 'an', 'object', '.'], ['which', 'object', 'worketh', 'on', 'the', 'eyes', ',', 'eares', ',', 'and', 'other', 'parts', 'of', 'mans', 'body', ';', 'and', 'by', 'diversity', 'of', 'working', ',', 'produceth', 'diversity', 'of', 'apparences', '.'], ['the', 'originall', 'of', 'them', 'all', ',', 'is', 'that', 'which', 'we', 'call', 'sense', ';', '(', 'for', 'there', 'is', 'no', 'conception', 'in', 'a', 'mans', 'mind', ',', 'which', 'hath', 'not', 'at', 'first', ',', 'totally', ',', 'or', 'by', 'parts', ',', 'been', 'begotten', 'upon', 'the', 'organs', 'of', 'sense', '.', ')'], ['the', 'rest', 'are', 'derived', 'from', 'that', 'originall', '.'], ['to', 'know', 'the', 'naturall', 'cause', 'of', 'sense', ',', 'is', 'not', 'very', 'necessary', 'to', 'the', 'business', 'now', 'in', 'hand', ';', 'and', 'i', 'have', 'els-where', 'written', 'of', 'the', 'same', 'at', 'large', '.'], ['nevertheless', ',', 'to', 'fill', 'each', 'part', 'of', 'my', 'present', 'method', ',', 'i', 'will', 'briefly', 'deliver', 'the', 'same', 'in', 'this', 'place', '.'], ['the', 'cause', 'of', 'sense', ',', 'is', 'the', 'externall', 'body', ',', 'or', 'object', ',', 'which', 'presseth', 'the', 'organ', 'proper', 'to', 'each', 'sense', ',', 'either', 'immediatly', ',', 'as', 'in', 'the', 'tast', 'and', 'touch', ';', 'or', 'mediately', ',', 'as', 'in', 'seeing', ',', 'hearing', ',', 'and', 'smelling', ':', 'which', 'pressure', ',', 'by', 'the', 'mediation', 'of', 'nerves', ',', 'and', 'other', 'strings', ',', 'and', 'membranes', 'of', 'the', 'body', ',', 'continued', 'inwards', 'to', 'the', 'brain', ',', 'and', 'heart', ',', 'causeth', 'there', 'a', 'resistance', ',', 'or', 'counter-pressure', ',', 'or', 'endeavour', 'of', 'the', 'heart', ',', 'to', 'deliver', 'it', 'self', ':', 'which', 'endeavour', 'because', 'outward', ',', 'seemeth', 'to', 'be', 'some', 'matter', 'without', '.'], ['and', 'this', 'seeming', ',', 'or', 'fancy', ',', 'is', 'that', 'which', 'men', 'call', 'sense', ';', 'and', 'consisteth', ',', 'as', 'to', 'the', 'eye', ',', 'in', 'a', 'light', ',', 'or', 'colour', 'figured', ';', 'to', 'the', 'eare', ',', 'in', 'a', 'sound', ';', 'to', 'the', 'nostrill', ',', 'in', 'an', 'odour', ';', 'to', 'the', 'tongue', 'and', 'palat', ',', 'in', 'a', 'savour', ';', 'and', 'to', 'the', 'rest', 'of', 'the', 'body', ',', 'in', 'heat', ',', 'cold', ',', 'hardnesse', ',', 'softnesse', ',', 'and', 'such', 'other', 'qualities', ',', 'as', 'we', 'discern', 'by', 'feeling', '.'], ['all', 'which', 'qualities', 'called', 'sensible', ',', 'are', 'in', 'the', 'object', 'that', 'causeth', 'them', ',', 'but', 'so', 'many', 'several', 'motions', 'of', 'the', 'matter', ',', 'by', 'which', 'it', 'presseth', 'our', 'organs', 'diversly', '.'], ['neither', 'in', 'us', 'that', 'are', 'pressed', ',', 'are', 'they', 'anything', 'els', ',', 'but', 'divers', 'motions', ';', '(', 'for', 'motion', ',', 'produceth', 'nothing', 'but', 'motion', '.', ')'], ['but', 'their', 'apparence', 'to', 'us', 'is', 'fancy', ',', 'the', 'same', 'waking', ',', 'that', 'dreaming', '.'], ['and', 'as', 'pressing', ',', 'rubbing', ',', 'or', 'striking', 'the', 'eye', ',', 'makes', 'us', 'fancy', 'a', 'light', ';', 'and', 'pressing', 'the', 'eare', ',', 'produceth', 'a', 'dinne', ';', 'so', 'do', 'the', 'bodies', 'also', 'we', 'see', ',', 'or', 'hear', ',', 'produce', 'the', 'same', 'by', 'their', 'strong', ',', 'though', 'unobserved', 'action', ',', 'for', 'if', 'those', 'colours', ',', 'and', 'sounds', ',', 'were', 'in', 'the', 'bodies', ',', 'or', 'objects', 'that', 'cause', 'them', ',', 'they', 'could', 'not', 'bee', 'severed', 'from', 'them', ',', 'as', 'by', 'glasses', ',', 'and', 'in', 'ecchoes', 'by', 'reflection', ',', 'wee', 'see', 'they', 'are', ';', 'where', 'we', 'know', 'the', 'thing', 'we', 'see', ',', 'is', 'in', 'one', 'place', ';', 'the', 'apparence', ',', 'in', 'another', '.'], ['and', 'though', 'at', 'some', 'certain', 'distance', ',', 'the', 'reall', ',', 'and', 'very', 'object', 'seem', 'invested', 'with', 'the', 'fancy', 'it', 'begets', 'in', 'us', ';', 'yet', 'still', 'the', 'object', 'is', 'one', 'thing', ',', 'the', 'image', 'or', 'fancy', 'is', 'another', '.'], ['so', 'that', 'sense', 'in', 'all', 'cases', ',', 'is', 'nothing', 'els', 'but', 'originall', 'fancy', ',', 'caused', '(', 'as', 'i', 'have', 'said', ')', 'by', 'the', 'pressure', ',', 'that', 'is', ',', 'by', 'the', 'motion', ',', 'of', 'externall', 'things', 'upon', 'our', 'eyes', ',', 'eares', ',', 'and', 'other', 'organs', 'thereunto', 'ordained', '.'], ['but', 'the', 'philosophy-schooles', ',', 'through', 'all', 'the', 'universities', 'of', 'christendome', ',', 'grounded', 'upon', 'certain', 'texts', 'of', 'aristotle', ',', 'teach', 'another', 'doctrine', ';', 'and', 'say', ',', 'for', 'the', 'cause', 'of', 'vision', ',', 'that', 'the', 'thing', 'seen', ',', 'sendeth', 'forth', 'on', 'every', 'side', 'a', 'visible', 'species', '(', 'in', 'english', ')', 'a', 'visible', 'shew', ',', 'apparition', ',', 'or', 'aspect', ',', 'or', 'a', 'being', 'seen', ';', 'the', 'receiving', 'whereof', 'into', 'the', 'eye', ',', 'is', 'seeing', '.'], ['and', 'for', 'the', 'cause', 'of', 'hearing', ',', 'that', 'the', 'thing', 'heard', ',', 'sendeth', 'forth', 'an', 'audible', 'species', ',', 'that', 'is', ',', 'an', 'audible', 'aspect', ',', 'or', 'audible', 'being', 'seen', ';', 'which', 'entring', 'at', 'the', 'eare', ',', 'maketh', 'hearing', '.'], ['nay', 'for', 'the', 'cause', 'of', 'understanding', 'also', ',', 'they', 'say', 'the', 'thing', 'understood', 'sendeth', 'forth', 'intelligible', 'species', ',', 'that', 'is', ',', 'an', 'intelligible', 'being', 'seen', ';', 'which', 'comming', 'into', 'the', 'understanding', ',', 'makes', 'us', 'understand', '.'], ['i', 'say', 'not', 'this', ',', 'as', 'disapproving', 'the', 'use', 'of', 'universities', ':', 'but', 'because', 'i', 'am', 'to', 'speak', 'hereafter', 'of', 'their', 'office', 'in', 'a', 'common-wealth', ',', 'i', 'must', 'let', 'you', 'see', 'on', 'all', 'occasions', 'by', 'the', 'way', ',', 'what', 'things', 'would', 'be', 'amended', 'in', 'them', ';', 'amongst', 'which', 'the', 'frequency', 'of', 'insignificant', 'speech', 'is', 'one', '.'], ['chapter', 'ii', '.'], ['of', 'imagination', 'that', 'when', 'a', 'thing', 'lies', 'still', ',', 'unlesse', 'somewhat', 'els', 'stirre', 'it', ',', 'it', 'will', 'lye', 'still', 'for', 'ever', ',', 'is', 'a', 'truth', 'that', 'no', 'man', 'doubts', 'of', '.'], ['but', 'that', 'when', 'a', 'thing', 'is', 'in', 'motion', ',', 'it', 'will', 'eternally', 'be', 'in', 'motion', ',', 'unless', 'somewhat', 'els', 'stay', 'it', ',', 'though', 'the', 'reason', 'be', 'the', 'same', ',', '(', 'namely', ',', 'that', 'nothing', 'can', 'change', 'it', 'selfe', ',', ')', 'is', 'not', 'so', 'easily', 'assented', 'to', '.'], ['for', 'men', 'measure', ',', 'not', 'onely', 'other', 'men', ',', 'but', 'all', 'other', 'things', ',', 'by', 'themselves', ':', 'and', 'because', 'they', 'find', 'themselves', 'subject', 'after', 'motion', 'to', 'pain', ',', 'and', 'lassitude', ',', 'think', 'every', 'thing', 'els', 'growes', 'weary', 'of', 'motion', ',', 'and', 'seeks', 'repose', 'of', 'its', 'own', 'accord', ';', 'little', 'considering', ',', 'whether', 'it', 'be', 'not', 'some', 'other', 'motion', ',', 'wherein', 'that', 'desire', 'of', 'rest', 'they', 'find', 'in', 'themselves', ',', 'consisteth', '.'], ['from', 'hence', 'it', 'is', ',', 'that', 'the', 'schooles', 'say', ',', 'heavy', 'bodies', 'fall', 'downwards', ',', 'out', 'of', 'an', 'appetite', 'to', 'rest', ',', 'and', 'to', 'conserve', 'their', 'nature', 'in', 'that', 'place', 'which', 'is', 'most', 'proper', 'for', 'them', ';', 'ascribing', 'appetite', ',', 'and', 'knowledge', 'of', 'what', 'is', 'good', 'for', 'their', 'conservation', ',', '(', 'which', 'is', 'more', 'than', 'man', 'has', ')', 'to', 'things', 'inanimate', 'absurdly', '.'], ['when', 'a', 'body', 'is', 'once', 'in', 'motion', ',', 'it', 'moveth', '(', 'unless', 'something', 'els', 'hinder', 'it', ')', 'eternally', ';', 'and', 'whatsoever', 'hindreth', 'it', ',', 'can', 'not', 'in', 'an', 'instant', ',', 'but', 'in', 'time', ',', 'and', 'by', 'degrees', 'quite', 'extinguish', 'it', ':', 'and', 'as', 'wee', 'see', 'in', 'the', 'water', ',', 'though', 'the', 'wind', 'cease', ',', 'the', 'waves', 'give', 'not', 'over', 'rowling', 'for', 'a', 'long', 'time', 'after', ';', 'so', 'also', 'it', 'happeneth', 'in', 'that', 'motion', ',', 'which', 'is', 'made', 'in', 'the', 'internall', 'parts', 'of', 'a', 'man', ',', 'then', ',', 'when', 'he', 'sees', ',', 'dreams', ',', '&', 'c.', 'for', 'after', 'the', 'object', 'is', 'removed', ',', 'or', 'the', 'eye', 'shut', ',', 'wee', 'still', 'retain', 'an', 'image', 'of', 'the', 'thing', 'seen', ',', 'though', 'more', 'obscure', 'than', 'when', 'we', 'see', 'it', '.'], ['and', 'this', 'is', 'it', ',', 'that', 'latines', 'call', 'imagination', ',', 'from', 'the', 'image', 'made', 'in', 'seeing', ';', 'and', 'apply', 'the', 'same', ',', 'though', 'improperly', ',', 'to', 'all', 'the', 'other', 'senses', '.'], ['but', 'the', 'greeks', 'call', 'it', 'fancy', ';', 'which', 'signifies', 'apparence', ',', 'and', 'is', 'as', 'proper', 'to', 'one', 'sense', ',', 'as', 'to', 'another', '.'], ['imagination', 'therefore', 'is', 'nothing', 'but', 'decaying', 'sense', ';', 'and', 'is', 'found', 'in', 'men', ',', 'and', 'many', 'other', 'living', 'creatures', ',', 'as', 'well', 'sleeping', ',', 'as', 'waking', '.'], ['memory', 'the', 'decay', 'of', 'sense', 'in', 'men', 'waking', ',', 'is', 'not', 'the', 'decay', 'of', 'the', 'motion', 'made', 'in', 'sense', ';', 'but', 'an', 'obscuring', 'of', 'it', ',', 'in', 'such', 'manner', ',', 'as', 'the', 'light', 'of', 'the', 'sun', 'obscureth', 'the', 'light', 'of', 'the', 'starres', ';', 'which', 'starrs', 'do', 'no', 'less', 'exercise', 'their', 'vertue', 'by', 'which', 'they', 'are', 'visible', ',', 'in', 'the', 'day', ',', 'than', 'in', 'the', 'night', '.'], ['but', 'because', 'amongst', 'many', 'stroaks', ',', 'which', 'our', 'eyes', ',', 'eares', ',', 'and', 'other', 'organs', 'receive', 'from', 'externall', 'bodies', ',', 'the', 'predominant', 'onely', 'is', 'sensible', ';', 'therefore', 'the', 'light', 'of', 'the', 'sun', 'being', 'predominant', ',', 'we', 'are', 'not', 'affected', 'with', 'the', 'action', 'of', 'the', 'starrs', '.'], ['and', 'any', 'object', 'being', 'removed', 'from', 'our', 'eyes', ',', 'though', 'the', 'impression', 'it', 'made', 'in', 'us', 'remain', ';', 'yet', 'other', 'objects', 'more', 'present', 'succeeding', ',', 'and', 'working', 'on', 'us', ',', 'the', 'imagination', 'of', 'the', 'past', 'is', 'obscured', ',', 'and', 'made', 'weak', ';', 'as', 'the', 'voyce', 'of', 'a', 'man', 'is', 'in', 'the', 'noyse', 'of', 'the', 'day', '.'], ['from', 'whence', 'it', 'followeth', ',', 'that', 'the', 'longer', 'the', 'time', 'is', ',', 'after', 'the', 'sight', ',', 'or', 'sense', 'of', 'any', 'object', ',', 'the', 'weaker', 'is', 'the', 'imagination', '.'], ['for', 'the', 'continuall', 'change', 'of', 'mans', 'body', ',', 'destroyes', 'in', 'time', 'the', 'parts', 'which', 'in', 'sense', 'were', 'moved', ':', 'so', 'that', 'the', 'distance', 'of', 'time', ',', 'and', 'of', 'place', ',', 'hath', 'one', 'and', 'the', 'same', 'effect', 'in', 'us', '.'], ['for', 'as', 'at', 'a', 'distance', 'of', 'place', ',', 'that', 'which', 'wee', 'look', 'at', ',', 'appears', 'dimme', ',', 'and', 'without', 'distinction', 'of', 'the', 'smaller', 'parts', ';', 'and', 'as', 'voyces', 'grow', 'weak', ',', 'and', 'inarticulate', ':', 'so', 'also', 'after', 'great', 'distance', 'of', 'time', ',', 'our', 'imagination', 'of', 'the', 'past', 'is', 'weak', ';', 'and', 'wee', 'lose', '(', 'for', 'example', ')', 'of', 'cities', 'wee', 'have', 'seen', ',', 'many', 'particular', 'streets', ';', 'and', 'of', 'actions', ',', 'many', 'particular', 'circumstances', '.'], ['this', 'decaying', 'sense', ',', 'when', 'wee', 'would', 'express', 'the', 'thing', 'it', 'self', ',', '(', 'i', 'mean', 'fancy', 'it', 'selfe', ',', ')', 'wee', 'call', 'imagination', ',', 'as', 'i', 'said', 'before', ';', 'but', 'when', 'we', 'would', 'express', 'the', 'decay', ',', 'and', 'signifie', 'that', 'the', 'sense', 'is', 'fading', ',', 'old', ',', 'and', 'past', ',', 'it', 'is', 'called', 'memory', '.'], ['so', 'that', 'imagination', 'and', 'memory', ',', 'are', 'but', 'one', 'thing', ',', 'which', 'for', 'divers', 'considerations', 'hath', 'divers', 'names', '.'], ['much', 'memory', ',', 'or', 'memory', 'of', 'many', 'things', ',', 'is', 'called', 'experience', '.'], ['againe', ',', 'imagination', 'being', 'only', 'of', 'those', 'things', 'which', 'have', 'been', 'formerly', 'perceived', 'by', 'sense', ',', 'either', 'all', 'at', 'once', ',', 'or', 'by', 'parts', 'at', 'severall', 'times', ';', 'the', 'former', ',', '(', 'which', 'is', 'the', 'imagining', 'the', 'whole', 'object', ',', 'as', 'it', 'was', 'presented', 'to', 'the', 'sense', ')', 'is', 'simple', 'imagination', ';', 'as', 'when', 'one', 'imagineth', 'a', 'man', ',', 'or', 'horse', ',', 'which', 'he', 'hath', 'seen', 'before', '.'], ['the', 'other', 'is', 'compounded', ';', 'as', 'when', 'from', 'the', 'sight', 'of', 'a', 'man', 'at', 'one', 'time', ',', 'and', 'of', 'a', 'horse', 'at', 'another', ',', 'we', 'conceive', 'in', 'our', 'mind', 'a', 'centaure', '.'], ['so', 'when', 'a', 'man', 'compoundeth', 'the', 'image', 'of', 'his', 'own', 'person', ',', 'with', 'the', 'image', 'of', 'the', 'actions', 'of', 'an', 'other', 'man', ';', 'as', 'when', 'a', 'man', 'imagins', 'himselfe', 'a', 'hercules', ',', 'or', 'an', 'alexander', ',', '(', 'which', 'happeneth', 'often', 'to', 'them', 'that', 'are', 'much', 'taken', 'with', 'reading', 'of', 'romants', ')', 'it', 'is', 'a', 'compound', 'imagination', ',', 'and', 'properly', 'but', 'a', 'fiction', 'of', 'the', 'mind', '.'], ['there', 'be', 'also', 'other', 'imaginations', 'that', 'rise', 'in', 'men', ',', '(', 'though', 'waking', ')', 'from', 'the', 'great', 'impression', 'made', 'in', 'sense', ';', 'as', 'from', 'gazing', 'upon', 'the', 'sun', ',', 'the', 'impression', 'leaves', 'an', 'image', 'of', 'the', 'sun', 'before', 'our', 'eyes', 'a', 'long', 'time', 'after', ';', 'and', 'from', 'being', 'long', 'and', 'vehemently', 'attent', 'upon', 'geometricall', 'figures', ',', 'a', 'man', 'shall', 'in', 'the', 'dark', ',', '(', 'though', 'awake', ')', 'have', 'the', 'images', 'of', 'lines', ',', 'and', 'angles', 'before', 'his', 'eyes', ':', 'which', 'kind', 'of', 'fancy', 'hath', 'no', 'particular', 'name', ';', 'as', 'being', 'a', 'thing', 'that', 'doth', 'not', 'commonly', 'fall', 'into', 'mens', 'discourse', '.'], ['dreams', 'the', 'imaginations', 'of', 'them', 'that', 'sleep', ',', 'are', 'those', 'we', 'call', 'dreams', '.'], ['and', 'these', 'also', '(', 'as', 'all', 'other', 'imaginations', ')', 'have', 'been', 'before', ',', 'either', 'totally', ',', 'or', 'by', 'parcells', 'in', 'the', 'sense', '.'], ['and', 'because', 'in', 'sense', ',', 'the', 'brain', ',', 'and', 'nerves', ',', 'which', 'are', 'the', 'necessary', 'organs', 'of', 'sense', ',', 'are', 'so', 'benummed', 'in', 'sleep', ',', 'as', 'not', 'easily', 'to', 'be', 'moved', 'by', 'the', 'action', 'of', 'externall', 'objects', ',', 'there', 'can', 'happen', 'in', 'sleep', ',', 'no', 'imagination', ';', 'and', 'therefore', 'no', 'dreame', ',', 'but', 'what', 'proceeds', 'from', 'the', 'agitation', 'of', 'the', 'inward', 'parts', 'of', 'mans', 'body', ';', 'which', 'inward', 'parts', ',', 'for', 'the', 'connexion', 'they', 'have', 'with', 'the', 'brayn', ',', 'and', 'other', 'organs', ',', 'when', 'they', 'be', 'distempered', ',', 'do', 'keep', 'the', 'same', 'in', 'motion', ';', 'whereby', 'the', 'imaginations', 'there', 'formerly', 'made', ',', 'appeare', 'as', 'if', 'a', 'man', 'were', 'waking', ';', 'saving', 'that', 'the', 'organs', 'of', 'sense', 'being', 'now', 'benummed', ',', 'so', 'as', 'there', 'is', 'no', 'new', 'object', ',', 'which', 'can', 'master', 'and', 'obscure', 'them', 'with', 'a', 'more', 'vigorous', 'impression', ',', 'a', 'dreame', 'must', 'needs', 'be', 'more', 'cleare', ',', 'in', 'this', 'silence', 'of', 'sense', ',', 'than', 'are', 'our', 'waking', 'thoughts', '.'], ['and', 'hence', 'it', 'cometh', 'to', 'pass', ',', 'that', 'it', 'is', 'a', 'hard', 'matter', ',', 'and', 'by', 'many', 'thought', 'impossible', 'to', 'distinguish', 'exactly', 'between', 'sense', 'and', 'dreaming', '.'], ['for', 'my', 'part', ',', 'when', 'i', 'consider', ',', 'that', 'in', 'dreames', ',', 'i', 'do', 'not', 'often', ',', 'nor', 'constantly', 'think', 'of', 'the', 'same', 'persons', ',', 'places', ',', 'objects', ',', 'and', 'actions', 'that', 'i', 'do', 'waking', ';', 'nor', 'remember', 'so', 'long', 'a', 'trayne', 'of', 'coherent', 'thoughts', ',', 'dreaming', ',', 'as', 'at', 'other', 'times', ';', 'and', 'because', 'waking', 'i', 'often', 'observe', 'the', 'absurdity', 'of', 'dreames', ',', 'but', 'never', 'dream', 'of', 'the', 'absurdities', 'of', 'my', 'waking', 'thoughts', ';', 'i', 'am', 'well', 'satisfied', ',', 'that', 'being', 'awake', ',', 'i', 'know', 'i', 'dreame', 'not', ';', 'though', 'when', 'i', 'dreame', ',', 'i', 'think', 'my', 'selfe', 'awake', '.'], ['and', 'seeing', 'dreames', 'are', 'caused', 'by', 'the', 'distemper', 'of', 'some', 'of', 'the', 'inward', 'parts', 'of', 'the', 'body', ';', 'divers', 'distempers', 'must', 'needs', 'cause', 'different', 'dreams', '.']]\n"
     ]
    }
   ],
   "source": [
    "# print a few items in the tokenized_sentences list \n",
    "print(tokenized_sentences[100:150]) # each item is the list is again a list (see nested lists)"
   ]
  },
  {
   "cell_type": "markdown",
   "metadata": {},
   "source": [
    "Get all sentences which discuss **man** and **God**.\n",
    "> Tip: to check for two conditions use the following logical expression:\n",
    "\n",
    ">l = ['a','b','c']\n",
    "\n",
    ">'b' in l and 'e' in l"
   ]
  },
  {
   "cell_type": "code",
   "execution_count": 79,
   "metadata": {
    "collapsed": true
   },
   "outputs": [],
   "source": [
    "man_god = []\n",
    "for sentence in tokenized_sentences:\n",
    "    if ('man' in sentence) and ('god' in sentence):\n",
    "        man_god.append(sentence)"
   ]
  },
  {
   "cell_type": "code",
   "execution_count": 80,
   "metadata": {},
   "outputs": [
    {
     "name": "stdout",
     "output_type": "stream",
     "text": [
      "138\n"
     ]
    }
   ],
   "source": [
    "print(len(man_god)) # how many sentences are there with man and god?"
   ]
  },
  {
   "cell_type": "code",
   "execution_count": 81,
   "metadata": {},
   "outputs": [
    {
     "data": {
      "text/plain": [
       "[['12.1',\n",
       "  ')',\n",
       "  'that',\n",
       "  'by',\n",
       "  'michael',\n",
       "  'is',\n",
       "  'meant',\n",
       "  'christ',\n",
       "  ',',\n",
       "  'not',\n",
       "  'as',\n",
       "  'an',\n",
       "  'angel',\n",
       "  ',',\n",
       "  'but',\n",
       "  'as',\n",
       "  'a',\n",
       "  'prince',\n",
       "  ':',\n",
       "  'and',\n",
       "  'that',\n",
       "  'gabriel',\n",
       "  '(',\n",
       "  'as',\n",
       "  'the',\n",
       "  'like',\n",
       "  'apparitions',\n",
       "  'made',\n",
       "  'to',\n",
       "  'other',\n",
       "  'holy',\n",
       "  'men',\n",
       "  'in',\n",
       "  'their',\n",
       "  'sleep',\n",
       "  ')',\n",
       "  'was',\n",
       "  'nothing',\n",
       "  'but',\n",
       "  'a',\n",
       "  'supernaturall',\n",
       "  'phantasme',\n",
       "  ',',\n",
       "  'by',\n",
       "  'which',\n",
       "  'it',\n",
       "  'seemed',\n",
       "  'to',\n",
       "  'daniel',\n",
       "  ',',\n",
       "  'in',\n",
       "  'his',\n",
       "  'dream',\n",
       "  ',',\n",
       "  'that',\n",
       "  'two',\n",
       "  'saints',\n",
       "  'being',\n",
       "  'in',\n",
       "  'talke',\n",
       "  ',',\n",
       "  'one',\n",
       "  'of',\n",
       "  'them',\n",
       "  'said',\n",
       "  'to',\n",
       "  'the',\n",
       "  'other',\n",
       "  ',',\n",
       "  '``',\n",
       "  'gabriel',\n",
       "  ',',\n",
       "  'let',\n",
       "  'us',\n",
       "  'make',\n",
       "  'this',\n",
       "  'man',\n",
       "  'understand',\n",
       "  'his',\n",
       "  'vision',\n",
       "  ':',\n",
       "  \"''\",\n",
       "  'for',\n",
       "  'god',\n",
       "  'needeth',\n",
       "  'not',\n",
       "  ',',\n",
       "  'to',\n",
       "  'distinguish',\n",
       "  'his',\n",
       "  'celestiall',\n",
       "  'servants',\n",
       "  'by',\n",
       "  'names',\n",
       "  ',',\n",
       "  'which',\n",
       "  'are',\n",
       "  'usefull',\n",
       "  'onely',\n",
       "  'to',\n",
       "  'the',\n",
       "  'short',\n",
       "  'memories',\n",
       "  'of',\n",
       "  'mortalls',\n",
       "  '.'],\n",
       " ['where',\n",
       "  'it',\n",
       "  'is',\n",
       "  'said',\n",
       "  ',',\n",
       "  'that',\n",
       "  'god',\n",
       "  'inspired',\n",
       "  'into',\n",
       "  'man',\n",
       "  'the',\n",
       "  'breath',\n",
       "  'of',\n",
       "  'life',\n",
       "  ',',\n",
       "  'no',\n",
       "  'more',\n",
       "  'is',\n",
       "  'meant',\n",
       "  ',',\n",
       "  'then',\n",
       "  'that',\n",
       "  'god',\n",
       "  'gave',\n",
       "  'unto',\n",
       "  'him',\n",
       "  'vitall',\n",
       "  'motion',\n",
       "  '.'],\n",
       " ['saith',\n",
       "  ',',\n",
       "  'that',\n",
       "  '``',\n",
       "  'prophecy',\n",
       "  'came',\n",
       "  'not',\n",
       "  'in',\n",
       "  'old',\n",
       "  'time',\n",
       "  'by',\n",
       "  'the',\n",
       "  'will',\n",
       "  'of',\n",
       "  'man',\n",
       "  ',',\n",
       "  'but',\n",
       "  'the',\n",
       "  'holy',\n",
       "  'men',\n",
       "  'of',\n",
       "  'god',\n",
       "  'spake',\n",
       "  'as',\n",
       "  'they',\n",
       "  'were',\n",
       "  'moved',\n",
       "  'by',\n",
       "  'the',\n",
       "  'holy',\n",
       "  'spirit',\n",
       "  ',',\n",
       "  \"''\",\n",
       "  'by',\n",
       "  'the',\n",
       "  'holy',\n",
       "  'spirit',\n",
       "  ',',\n",
       "  'is',\n",
       "  'meant',\n",
       "  'the',\n",
       "  'voice',\n",
       "  'of',\n",
       "  'god',\n",
       "  'in',\n",
       "  'a',\n",
       "  'dream',\n",
       "  ',',\n",
       "  'or',\n",
       "  'vision',\n",
       "  'supernaturall',\n",
       "  ',',\n",
       "  'which',\n",
       "  'is',\n",
       "  'not',\n",
       "  'inspiration',\n",
       "  ';',\n",
       "  'nor',\n",
       "  'when',\n",
       "  'our',\n",
       "  'saviour',\n",
       "  'breathing',\n",
       "  'on',\n",
       "  'his',\n",
       "  'disciples',\n",
       "  ',',\n",
       "  'said',\n",
       "  ',',\n",
       "  '``',\n",
       "  'receive',\n",
       "  'the',\n",
       "  'holy',\n",
       "  'spirit',\n",
       "  ',',\n",
       "  \"''\",\n",
       "  'was',\n",
       "  'that',\n",
       "  'breath',\n",
       "  'the',\n",
       "  'spirit',\n",
       "  ',',\n",
       "  'but',\n",
       "  'a',\n",
       "  'sign',\n",
       "  'of',\n",
       "  'the',\n",
       "  'spirituall',\n",
       "  'graces',\n",
       "  'he',\n",
       "  'gave',\n",
       "  'unto',\n",
       "  'them',\n",
       "  '.'],\n",
       " ['from',\n",
       "  'the',\n",
       "  'very',\n",
       "  'creation',\n",
       "  ',',\n",
       "  'god',\n",
       "  'not',\n",
       "  'only',\n",
       "  'reigned',\n",
       "  'over',\n",
       "  'all',\n",
       "  'men',\n",
       "  'naturally',\n",
       "  'by',\n",
       "  'his',\n",
       "  'might',\n",
       "  ';',\n",
       "  'but',\n",
       "  'also',\n",
       "  'had',\n",
       "  'peculiar',\n",
       "  'subjects',\n",
       "  ',',\n",
       "  'whom',\n",
       "  'he',\n",
       "  'commanded',\n",
       "  'by',\n",
       "  'a',\n",
       "  'voice',\n",
       "  ',',\n",
       "  'as',\n",
       "  'one',\n",
       "  'man',\n",
       "  'speaketh',\n",
       "  'to',\n",
       "  'another',\n",
       "  '.'],\n",
       " ['sacerdotium',\n",
       "  'regale',\n",
       "  ',',\n",
       "  'a',\n",
       "  'regal',\n",
       "  'priesthood',\n",
       "  ';',\n",
       "  'as',\n",
       "  'also',\n",
       "  'the',\n",
       "  'institution',\n",
       "  'it',\n",
       "  'self',\n",
       "  ',',\n",
       "  'by',\n",
       "  'which',\n",
       "  'no',\n",
       "  'man',\n",
       "  'might',\n",
       "  'enter',\n",
       "  'into',\n",
       "  'the',\n",
       "  'sanctum',\n",
       "  'sanctorum',\n",
       "  ',',\n",
       "  'that',\n",
       "  'is',\n",
       "  'to',\n",
       "  'say',\n",
       "  ',',\n",
       "  'no',\n",
       "  'man',\n",
       "  'might',\n",
       "  'enquire',\n",
       "  'gods',\n",
       "  'will',\n",
       "  'immediately',\n",
       "  'of',\n",
       "  'god',\n",
       "  'himselfe',\n",
       "  ',',\n",
       "  'but',\n",
       "  'onely',\n",
       "  'the',\n",
       "  'high',\n",
       "  'priest',\n",
       "  '.']]"
      ]
     },
     "execution_count": 81,
     "metadata": {},
     "output_type": "execute_result"
    }
   ],
   "source": [
    "man_god[50:55] # inspect these"
   ]
  },
  {
   "cell_type": "code",
   "execution_count": 82,
   "metadata": {},
   "outputs": [
    {
     "name": "stdout",
     "output_type": "stream",
     "text": [
      "for there is not any vertue that disposeth a man , either to the service of god , or to the service of his country , to civill society , or private friendship , that did not manifestly appear in his conversation , not as acquired by necessity , or affected upon occasion , but inhaerent , and shining in a generous constitution of his nature .\n",
      "\n",
      "\n",
      "a review and conclusion the introduction nature ( the art whereby god hath made and governes the world ) is by the art of man , as in many other things , so in this also imitated , that it can make an artificial animal .\n",
      "\n",
      "\n",
      "lastly , the pacts and covenants , by which the parts of this body politique were at first made , set together , and united , resemble that fiat , or the let us make man , pronounced by god in the creation .\n",
      "\n",
      "\n",
      "but evill men under pretext that god can do any thing , are so bold as to say any thing when it serves their turn , though they think it untrue ; it is the part of a wise man , to believe them no further , than right reason makes that which they say , appear credible .\n",
      "\n",
      "\n",
      "for ( not knowing what imagination , or the senses are ) , what they receive , they teach : some saying , that imaginations rise of themselves , and have no cause : others that they rise most commonly from the will ; and that good thoughts are blown ( inspired ) into a man , by god ; and evill thoughts by the divell : or that good thoughts are powred ( infused ) into a man , by god ; and evill ones by the divell .\n",
      "\n",
      "\n",
      "but all this language gotten , and augmented by adam and his posterity , was again lost at the tower of babel , when by the hand of god , every man was stricken for his rebellion , with an oblivion of his former language .\n",
      "\n",
      "\n",
      "what kind of felicity god hath ordained to them that devoutly honour him , a man shall no sooner know , than enjoy ; being joys , that now are as incomprehensible , as the word of school-men , beatifical vision , is unintelligible .\n",
      "\n",
      "\n",
      "if some man in bedlam should entertaine you with sober discourse ; and you desire in taking leave , to know what he were , that you might another time requite his civility ; and he should tell you , he were god the father ; i think you need expect no extravagant action for argument of his madnesse .\n",
      "\n",
      "\n",
      "the scriptures by the spirit of god in man , mean a mans spirit , enclined to godlinesse .\n",
      "\n",
      "\n",
      "naturall religion , from the same curiosity , or love of the knowledge of causes , draws a man from consideration of the effect , to seek the cause ; and again , the cause of that cause ; till of necessity he must come to this thought at last , that there is some cause , whereof there is no former cause , but is eternall ; which is it men call god .\n",
      "\n",
      "\n",
      "for as a man that is born blind , hearing men talk of warming themselves by the fire , and being brought to warm himself by the same , may easily conceive , and assure himselfe , there is somewhat there , which men call fire , and is the cause of the heat he feeles ; but can not imagine what it is like ; nor have an idea of it in his mind , such as they have that see it : so also , by the visible things of this world , and their admirable order , a man may conceive there is a cause of them , which men call god ; and yet not have an idea , or image of him in his mind .\n",
      "\n",
      "\n",
      "but the opinion that such spirits were incorporeall , or immateriall , could never enter into the mind of any man by nature ; because , though men may put together words of contradictory signification , as spirit , and incorporeall ; yet they can never have the imagination of any thing answering to them : and therefore , men that by their own meditation , arrive to the acknowledgement of one infinite , omnipotent , and eternall god , choose rather to confesse he is incomprehensible , and above their understanding ; than to define his nature by spirit incorporeall , and then confesse their definition to be unintelligible : or if they give him such a title , it is not dogmatically , with intention to make the divine nature understood ; but piously , to honour him with attributes , of significations , as remote as they can from the grossenesse of bodies visible .\n",
      "\n",
      "\n",
      "in like manner they attribute their fortune to a stander by , to a lucky or unlucky place , to words spoken , especially if the name of god be amongst them ; as charming , and conjuring ( the leiturgy of witches ; ) insomuch as to believe , they have power to turn a stone into bread , bread into a man , or any thing , into any thing .\n",
      "\n",
      "\n",
      "for seeing all formed religion , is founded at first , upon the faith which a multitude hath in some one person , whom they believe not only to be a wise man , and to labour to procure their happiness , but also to be a holy man , to whom god himselfe vouchsafeth to declare his will supernaturally ; it followeth necessarily , when they that have the goverment of religion , shall come to have either the wisedome of those men , their sincerity , or their love suspected ; or that they shall be unable to shew any probable token of divine revelation ; that the religion which they desire to uphold , must be suspected likewise ; and ( without the feare of the civill sword ) contradicted and rejected .\n",
      "\n",
      "\n",
      "but because no man can demand a right to it , by his own righteousnesse , or any other power in himselfe , but by the free grace of god onely ; they say , no man can merit paradise ex condigno .\n",
      "\n",
      "\n",
      "he does not therein deny , that there be covenants ; and that they are sometimes broken , sometimes kept ; and that such breach of them may be called injustice , and the observance of them justice : but he questioneth , whether injustice , taking away the feare of god , ( for the same foole hath said in his heart there is no god , ) may not sometimes stand with that reason , which dictateth to every man his own good ; and particularly then , when it conduceth to such a benefit , as shall put a man in a condition , to neglect not onely the dispraise , and revilings , but also the power of other men .\n",
      "\n",
      "\n",
      "for as to the generation , god hath ordained to man a helper ; and there be alwayes two that are equally parents : the dominion therefore over the child , should belong equally to both ; and he be equally subject to both , which is impossible ; for no man can obey two masters .\n",
      "\n",
      "\n",
      "and whereas it is sayd , that having eaten , they saw they were naked ; no man hath so interpreted that place , as if they had formerly blind , as saw not their own skins : the meaning is plain , that it was then they first judged their nakednesse ( wherein it was gods will to create them ) to be uncomely ; and by being ashamed , did tacitely censure god himselfe .\n",
      "\n",
      "\n",
      "and therefore god , that seeth , and disposeth all things , seeth also that the liberty of man in doing what he will , is accompanied with the necessity of doing that which god will , & no more , nor lesse .\n",
      "\n",
      "\n",
      "protestation against the decrees of bodies politique sometimes lawful ; but against soveraign power never it is manifest by this , that in bodies politique subordinate , and subject to a soveraign power , it is sometimes not onely lawfull , but expedient , for a particular man to make open protestation against the decrees of the representative assembly , and cause their dissent to be registred , or to take witnesse of it ; because otherwise they may be obliged to pay debts contracted , and be responsible for crimes committed by other men : but in a soveraign assembly , that liberty is taken away , both because he that protesteth there , denies their soveraignty ; and also because whatsoever is commanded by the soveraign power , is as to the subject ( though not so alwayes in the sight of god ) justified by the command ; for of such command every subject is the author .\n",
      "\n",
      "\n",
      "the monarch , or the soveraign assembly only hath immediate authority from god , to teach and instruct the people ; and no man but the soveraign , receiveth his power dei gratia simply ; that is to say , from the favour of none but god : all other , receive theirs from the favour and providence of god , and their soveraigns ; as in a monarchy dei gratia & regis ; or dei providentia & voluntate regis .\n",
      "\n",
      "\n",
      "but this authority of man to declare what be these positive lawes of god , how can it be known ?\n",
      "\n",
      "\n",
      "god may command a man by a supernaturall way , to deliver lawes to other men .\n",
      "\n",
      "\n",
      "but because it is of the essence of law , that he who is to be obliged , be assured of the authority of him that declareth it , which we can not naturally take notice to be from god , how can a man without supernaturall revelation be assured of the revelation received by the declarer ?\n",
      "\n",
      "\n",
      "by which two places it sufficiently appeareth , that in a common-wealth , a subject that has no certain and assured revelation particularly to himself concerning the will of god , is to obey for such , the command of the common-wealth : for if men were at liberty , to take for gods commandements , their own dreams , and fancies , or the dreams and fancies of private men ; scarce two men would agree upon what is gods commandement ; and yet in respect of them , every man would despise the commandements of the common-wealth .\n",
      "\n",
      "\n",
      "for in whatsoever is not regulated by the common-wealth , tis equity ( which is the law of nature , and therefore an eternall law of god ) that every man equally enjoy his liberty .\n",
      "\n",
      "\n",
      "to intend to steale , or kill , is a sinne , though it never appeare in word , or fact : for god that seeth the thoughts of man , can lay it to his charge : but till it appear by some thing done , or said , by which the intention may be crime ; which distinction the greeks observed in the word amartema , and egklema , or aitia ; wherof the former , ( which is translated sinne , ) signifieth any swarving from the law whatsoever ; but the two later , ( which are translated crime , ) signifie that sinne onely , whereof one man may accuse another .\n",
      "\n",
      "\n",
      "naturall evill consequences , no punishments sixthly , whereas to certain actions , there be annexed by nature , divers hurtfull consequences ; as when a man in assaulting another , is himselfe slain , or wounded ; or when he falleth into sicknesse by the doing of some unlawfull act ; such hurt , though in respect of god , who is the author of nature , it may be said to be inflicted , and therefore a punishment divine ; yet it is not contaned in the name of punishment in respect of men , because it is not inflicted by the authority of man .\n",
      "\n",
      "\n",
      "hitherto i have set forth the nature of man , ( whose pride and other passions have compelled him to submit himselfe to government ; ) together with the great power of his governour , whom i compared to leviathan , taking that comparison out of the two last verses of the one and fortieth of job ; where god having set forth the great power of leviathan , called him king of the proud .\n",
      "\n",
      "\n",
      "and the same law , that dictateth to men that have no civil government , what they ought to do , and what to avoyd in regard of one another , dictateth the same to common-wealths , that is , to the consciences of soveraign princes , and soveraign assemblies ; there being no court of naturall justice , but in the conscience onely ; where not man , but god raigneth ; whose lawes , ( such of them as oblige all mankind , ) in respect of god , as he is the author of nature , are naturall ; and in respect of the same god , as he is king of kings , are lawes .\n",
      "\n",
      "\n",
      "for without that , a man knows not , when he is commanded any thing by the civill power , whether it be contrary to the law of god , or not : and so , either by too much civill obedience , offends the divine majesty , or through feare of offending god , transgresses the commandements of the common-wealth .\n",
      "\n",
      "\n",
      "but to call this power of god , which extendeth it selfe not onely to man , but also to beasts , and plants , and bodies inanimate , by the name of kingdome , is but a metaphoricall use of the word .\n",
      "\n",
      "\n",
      "a threefold word of god , reason , revelation , prophecy to rule by words , requires that such words be manifestly made known ; for else they are no lawes : for to the nature of lawes belongeth a sufficient , and clear promulgation , such as may take away the excuse of ignorance ; which in the lawes of men is but of one onely kind , and that is , proclamation , or promulgation by the voyce of man .\n",
      "\n",
      "\n",
      "but god declareth his lawes three wayes ; by the dictates of naturall reason , by revelation , and by the voyce of some man , to whom by the operation of miracles , he procureth credit with the rest .\n",
      "\n",
      "\n",
      "conformable to this doctrine is the sentence of our saviour , concerning the man that was born blind , in these words , `` neither hath this man sinned , nor his fathers ; but that the works of god might be made manifest in him . ''\n",
      "\n",
      "\n",
      "and therefore when we ascribe to god a will , it is not to be understood , as that of man , for a rationall appetite ; but as the power , by which he effecteth every thing .\n",
      "\n",
      "\n",
      "fourthly , not to swear by any but god , is naturally a signe of honour : for it is a confession that god onely knoweth the heart ; and that no mans wit , or strength can protect a man against gods vengence on the perjured .\n",
      "\n",
      "\n",
      "how god speaketh to men when god speaketh to man , it must be either immediately ; or by mediation of another man , to whom he had formerly spoken by himself immediately .\n",
      "\n",
      "\n",
      "how god speaketh to a man immediately , may be understood by those well enough , to whom he hath so spoken ; but how the same should be understood by another , is hard , if not impossible to know .\n",
      "\n",
      "\n",
      "for if a man pretend to me , that god hath spoken to him supernaturally , and immediately , and i make doubt of it , i can not easily perceive what argument he can produce , to oblige me to beleeve it .\n",
      "\n",
      "\n",
      "to say he hath spoken to him in a dream , is no more than to say he dreamed that god spake to him ; which is not of force to win beleef from any man , that knows dreams are for the most part naturall , and may proceed from former thoughts ; and such dreams as that , from selfe conceit , and foolish arrogance , and false opinion of a mans own godlinesse , or other vertue , by which he thinks he hath merited the favour of extraordinary revelation .\n",
      "\n",
      "\n",
      "so that though god almighty can speak to a man , by dreams , visions , voice , and inspiration ; yet he obliges no man to beleeve he hath so done to him that pretends it ; who ( being a man ) , may erre , and ( which is more ) may lie .\n",
      "\n",
      "\n",
      "so that it is manifest , that the teaching of the religion which god hath established , and the showing of a present miracle , joined together , were the only marks whereby the scripture would have a true prophet , that is to say immediate revelation to be acknowledged ; neither of them being singly sufficient to oblige any other man to regard what he saith .\n",
      "\n",
      "\n",
      "miracles ceasing , prophets cease , the scripture supplies their place seeing therefore miracles now cease , we have no sign left , whereby to acknowledge the pretended revelations , or inspirations of any private man ; nor obligation to give ear to any doctrine , farther than it is conformable to the holy scriptures , which since the time of our saviour , supply the want of all other prophecy ; and from which , by wise and careful ratiocination , all rules and precepts necessary to the knowledge of our duty both to god and man , without enthusiasme , or supernaturall inspiration , may easily be deduced .\n",
      "\n",
      "\n",
      "14. verse 21 , 22 , & c. where speaking to god , he saith thus , `` thy law is burnt ; therefore no man knoweth the things which thou has done , or the works that are to begin .\n",
      "\n",
      "\n",
      "in summe , the histories and the prophecies of the old testament , and the gospels , and epistles of the new testament , have had one and the same scope , to convert men to the obedience of god ; 1. in moses , and the priests ; 2. in the man christ ; and 3. in the apostles and the successors to apostolicall power .\n",
      "\n",
      "\n",
      "if they be made law by god himselfe , they are of the nature of written law , which are laws to them only to whom god hath so sufficiently published them , as no man can excuse himself , by saying , he know not they were his .\n",
      "\n",
      "\n",
      "for joseph having advised him to look out a wise and discreet man , and to set him over the land of egypt , he saith thus , `` can we find such a man as this is , in whom is the spirit of god ? ''\n",
      "\n",
      "\n",
      "it is said , `` god made man of the dust of the earth , and breathed into his nostrills ( spiraculum vitae ) the breath of life , and man was made a living soul . ''\n",
      "\n",
      "\n",
      "for an apparition made to a man in his sleep , is that which all men call a dreame , whether such dreame be naturall , or supernaturall : and that which there jacob calleth an angel , was god himselfe ; for the same angel saith ( verse 13 . )\n",
      "\n",
      "\n",
      "12.1 ) that by michael is meant christ , not as an angel , but as a prince : and that gabriel ( as the like apparitions made to other holy men in their sleep ) was nothing but a supernaturall phantasme , by which it seemed to daniel , in his dream , that two saints being in talke , one of them said to the other , `` gabriel , let us make this man understand his vision : '' for god needeth not , to distinguish his celestiall servants by names , which are usefull onely to the short memories of mortalls .\n",
      "\n",
      "\n",
      "where it is said , that god inspired into man the breath of life , no more is meant , then that god gave unto him vitall motion .\n",
      "\n",
      "\n",
      "saith , that `` prophecy came not in old time by the will of man , but the holy men of god spake as they were moved by the holy spirit , '' by the holy spirit , is meant the voice of god in a dream , or vision supernaturall , which is not inspiration ; nor when our saviour breathing on his disciples , said , `` receive the holy spirit , '' was that breath the spirit , but a sign of the spirituall graces he gave unto them .\n",
      "\n",
      "\n",
      "from the very creation , god not only reigned over all men naturally by his might ; but also had peculiar subjects , whom he commanded by a voice , as one man speaketh to another .\n",
      "\n",
      "\n",
      "sacerdotium regale , a regal priesthood ; as also the institution it self , by which no man might enter into the sanctum sanctorum , that is to say , no man might enquire gods will immediately of god himselfe , but onely the high priest .\n",
      "\n",
      "\n",
      "of the word of god , and of prophets word what when there is mention of the word of god , or of man , it doth not signifie a part of speech , such as grammarians call a nown , or a verb , or any simple voice , without a contexture with other words to make it significative ; but a perfect speech or discourse , whereby the speaker affirmeth , denieth , commandeth , promiseth , threateneth , wisheth , or interrogateth .\n",
      "\n",
      "\n",
      "the words spoken by god and concerning god , both are called gods word in scripture again , if we say the word of god , or of man , it may bee understood sometimes of the speaker , ( as the words that god hath spoken , or that a man hath spoken ) : in which sense , when we say , the gospel of st. matthew , we understand st. matthew to be the writer of it : and sometimes of the subject : in which sense , when we read in the bible , `` the words of the days of the kings of israel , or judah , '' 't is meant , that the acts that were done in those days , were the subject of those words ; and in the greek , which ( in the scripture ) retaineth many hebraismes , by the word of god is oftentimes meant , not that which is spoken by god , but concerning god , and his government ; that is to say , the doctrine of religion : insomuch , as it is all one , to say logos theou , and theologia ; which is , that doctrine which wee usually call divinity , as is manifest by the places following ( acts 13.46 . )\n",
      "\n",
      "\n",
      "they might as well term him the nown of god : for as by nown , so also by verbe , men understand nothing but a part of speech , a voice , a sound , that neither affirms , nor denies , nor commands , nor promiseth , nor is any substance corporeall , or spirituall ; and therefore it can not be said to bee either god , or man ; whereas our saviour is both .\n",
      "\n",
      "\n",
      "thirdly , for the words of reason and equity there are also places of the scripture , where , by the word of god , is signified such words as are consonant to reason , and equity , though spoken sometimes neither by prophet , nor by a holy man .\n",
      "\n",
      "\n",
      "divers acceptions of the word prophet the name of prophet , signifieth in scripture sometimes prolocutor ; that is , he that speaketh from god to man , or from man to god : and sometimes praedictor , or a foreteller of things to come ; and sometimes one that speaketh incoherently , as men that are distracted .\n",
      "\n",
      "\n",
      "in the sense of speaking from man to god , abraham is called a prophet ( genes .\n",
      "\n",
      "\n",
      "where god in a dream speaketh to abimelech in this manner , `` now therefore restore the man his wife , for he is a prophet , and shall pray for thee ; '' whereby may be also gathered , that the name of prophet may be given , not unproperly to them that in christian churches , have a calling to say publique prayers for the congregation .\n",
      "\n",
      "\n",
      "where st. paul saith , `` every man that prayeth or prophecyeth with his head covered , & c. and every woman that prayeth or prophecyeth with her head uncovered : for prophecy in that place , signifieth no more , but praising god in psalmes , and holy songs ; which women might doe in the church , though it were not lawfull for them to speak to the congregation .\n",
      "\n",
      "\n",
      "the manner how god hath spoken to the prophets and although there be so many significations in scripture of the word prophet ; yet is that the most frequent , in which it is taken for him , to whom god speaketh immediately , that which the prophet is to say from him , to some other man , or to the people .\n",
      "\n",
      "\n",
      "can it ( may some say ) be properly said , that god hath voice and language , when it can not be properly said , he hath a tongue , or other organs , as a man ?\n",
      "\n",
      "\n",
      "in the apparition of a flame of fire out of the midst of a bush : and after the time of moses , ( where the manner how god spake immediately to man in the old testament , is expressed ) hee spake alwaies by a vision , or by a dream ; as to gideon , samuel , eliah , elisha , isaiah , ezekiel , and the rest of the prophets ; and often in the new testament , as to joseph , to st. peter , to st. paul , and to st. john the evangelist in the apocalypse .\n",
      "\n",
      "\n",
      "but moses , and after him the high priests were prophets of a more eminent place , and degree in gods favour ; and god himself in express words declareth , that to other prophets hee spake in dreams and visions , but to his servant moses , in such manner as a man speaketh to his friend .\n",
      "\n",
      "\n",
      "every man ought to examine the probability of a pretended prophets calling seeing then all prophecy supposeth vision , or dream , ( which two , when they be naturall , are the same , ) or some especiall gift of god , so rarely observed in mankind , as to be admired where observed ; and seeing as well such gifts , as the most extraordinary dreams , and visions , may proceed from god , not onely by his supernaturall , and immediate , but also by his naturall operation , and by mediation of second causes ; there is need of reason and judgement to discern between naturall , and supernaturall gifts , and between naturall , and supernaturall visions , or dreams .\n",
      "\n",
      "\n",
      "and consequently men had need to be very circumspect , and wary , in obeying the voice of man , that pretending himself to be a prophet , requires us to obey god in that way , which he in gods name telleth us to be the way to happinesse .\n",
      "\n",
      "\n",
      "and such controversies in the new testament at this day , amongst the spirituall prophets : every man then was , and now is bound to make use of his naturall reason , to apply to all prophecy those rules which god hath given us , to discern the true from the false .\n",
      "\n",
      "\n",
      "every spirit that confesseth that jesus christ is come in the flesh , is of god ; '' that is , is approved and allowed as a prophet of god : not that he is a godly man , or one of the elect , for this , that he confesseth , professeth , or preacheth jesus to be the christ ; but for that he is a prophet avowed .\n",
      "\n",
      "\n",
      "every man therefore ought to consider who is the soveraign prophet ; that is to say , who it is , that is gods viceregent on earth ; and hath next under god , the authority of governing christian men ; and to observe for a rule , that doctrine , which in the name of god , hee commanded to bee taught ; and thereby to examine and try out the truth of those doctrines , which pretended prophets with miracles , or without , shall at any time advance : and if they find it contrary to that rule , to doe as they did , that came to moses , and complained that there were some that prophecyed in the campe , whose authority so to doe they doubted of ; and leave to the soveraign , as they did to moses to uphold , or to forbid them , as hee should see cause ; and if hee disavow them , then no more to obey their voice ; or if he approve them , then to obey them , as men to whom god hath given a part of the spirit of their soveraigne .\n",
      "\n",
      "\n",
      "in like manner , if a man be metamorphosed into a stone , or into a pillar , it is a miracle ; because strange : but if a peece of wood be so changed ; because we see it often , it is no miracle : and yet we know no more , by what operation of god , the one is brought to passe , than the other .\n",
      "\n",
      "\n",
      "again , there be many rare works produced by the art of man : yet when we know they are done ; because thereby wee know also the means how they are done , we count them not for miracles , because not wrought by the immediate hand of god , but by mediation of humane industry .\n",
      "\n",
      "\n",
      "and thence it is , that ignorant , and superstitious men make great wonders of those works , which other men , knowing to proceed from nature , ( which is not the immediate , but the ordinary work of god , ) admire not at all : as when ecclipses of the sun and moon have been taken for supernaturall works , by the common people ; when neverthelesse , there were others , could from their naturall causes , have foretold the very hour they should arrive : or , as when a man , by confederacy , and secret intelligence , getting knowledge of the private actions of an ignorant , unwary man , thereby tells him , what he has done in former time ; it seems to him a miraculous thing ; but amongst wise , and cautelous men , such miracles as those , can not easily be done .\n",
      "\n",
      "\n",
      "and when that is done , the thing they pretend to be a miracle , we must both see it done , and use all means possible to consider , whether it be really done ; and not onely so , but whether it be such , as no man can do the like by his naturall power , but that it requires the immediate hand of god .\n",
      "\n",
      "\n",
      "for example ; if a man pretend , that after certain words spoken over a peece of bread , that presently god hath made it not bread , but a god , or a man , or both , and neverthelesse it looketh still as like bread as ever it did ; there is no reason for any man to think it really done ; nor consequently to fear him , till he enquire of god , by his vicar , or lieutenant , whether it be done , or not .\n",
      "\n",
      "\n",
      "and when our saviour christ , by the preaching of his ministers , shall have perswaded the jews to return , and called the gentiles to his obedience , then shall there be a new kingdome of heaven , because our king shall then be god , whose throne is heaven ; without any necessity evident in the scripture , that man shall ascend to his happinesse any higher than gods footstool the earth .\n",
      "\n",
      "\n",
      "for the points of doctrine concerning the kingdome ( of ) god , have so great influence on the kingdome of man , as not to be determined , but by them , that under god have the soveraign power .\n",
      "\n",
      "\n",
      "no pretence of private spirit against the religion of abraham from whence proceedeth another point , that it was not unlawfull for abraham , when any of his subjects should pretend private vision , or spirit , or other revelation from god , for the countenancing of any doctrine which abraham should forbid , or when they followed , or adhered to any such pretender , to punish them ; and consequently that it is lawfull now for the soveraign to punish any man that shall oppose his private spirit against the laws : for hee hath the same place in the common-wealth , that abraham had in his own family .\n",
      "\n",
      "\n",
      "no man upon pain of death might be so presumptuous as to approach the mountain where god talked with moses .\n",
      "\n",
      "\n",
      "as for example , after the death of eleazar and joshua , the next generation which had not seen the wonders of god , but were left to their own weak reason , not knowing themselves obliged by the covenant of a sacerdotall kingdome , regarded no more the commandement of the priest , nor any law of moses , but did every man that which was right in his own eyes ; and obeyed in civill affairs , such men , as from time to time they thought able to deliver them from the neighbour nations that oppressed them ; and consulted not with god ( as they ought to doe , ) but with such men , or women , as they guessed to bee prophets by their praedictions of things to come ; and thought they had an idol in their chappel , yet if they had a levite for their chaplain , they made account they worshipped the god of israel .\n",
      "\n",
      "\n",
      "not that the death of one man , though without sinne , can satisfie for the offences of all men , in the rigour of justice , but in the mercy of god , that ordained such sacrifices for sin , as he was pleased in his mercy to accept .\n",
      "\n",
      "\n",
      "seeing therefore the authority of moses was but subordinate , and hee but a lieutenant to god ; it followeth , that christ , whose authority , as man , was to bee like that of moses , was no more but subordinate to the authority of his father .\n",
      "\n",
      "\n",
      "as represented by the apostles , the holy spirit by which they spake , is god ; as represented by his son ( that was god and man ) , the son is that god ; as represented by moses , and the high priests , the father , that is to say , the father of our lord jesus christ , is that god : from whence we may gather the reason why those names father , son , and holy spirit in the signification of the godhead , are never used in the old testament : for they are persons , that is , they have their names from representing ; which could not be , till divers men had represented gods person in ruling , or in directing under him .\n",
      "\n",
      "\n",
      "`` submit your selves to every ordinance of man , for the lords sake , whether it bee to the king , as supreme , or unto governours , as to them that be sent by him for the punishment of evill doers , and for the praise of them that doe well ; for so is the will of god . ''\n",
      "\n",
      "\n",
      "faith is a gift of god , which man can neither give , nor take away by promise of rewards , or menaces of torture .\n",
      "\n",
      "\n",
      "he that is baptized , is dipped or washed , as a sign of becomming a new man , and a loyall subject to that god , whose person was represented in old time by moses , and the high priests , when he reigned over the jews ; and to jesus christ , his sonne , god , and man , that hath redeemed us , and shall in his humane nature represent his fathers person in his eternall kingdome after the resurrection ; and to acknowledge the doctrine of the apostles , who assisted by the spirit of the father , and of the son , were left for guides to bring us into that kingdome , to be the onely , and assured way thereunto .\n",
      "\n",
      "\n",
      "but every man in his owne order , christ the first fruits , afterward they that are christs , at his comming ; then commeth the end , when he shall have delivered up the kingdome of god , even the father , when he shall have put down all rule , and all authority and power '' ) it is manifest , that we do not in baptisme constitute over us another authority , by which our externall actions are to be governed in this life ; but promise to take the doctrine of the apostles for our direction in the way to life eternall .\n",
      "\n",
      "\n",
      "by which words , is not granted an authority to forgive , or retain sins , simply and absolutely , as god forgiveth or retaineth them , who knoweth the heart of man , and truth of his penitence and conversion ; but conditionally , to the penitent : and this forgivenesse , or absolution , in case the absolved have but a feigned repentance , is thereby without other act , or sentence of the absolvent , made void , and hath no effect at all to salvation , but on the contrary , to the aggravation of his sin .\n",
      "\n",
      "\n",
      "of the judicial , and leviticall law the judiciall law , that is to say , the laws that god prescribed to the magistrates of israel , for the rule of their administration of justice , and of the sentences , or judgments they should pronounce , in pleas between man and man ; and the leviticall law , that is to say , the rule that god prescribed touching the rites and ceremonies of the priests and levites , were all delivered to them by moses onely ; and therefore also became lawes , by vertue of the same promise of obedience to moses .\n",
      "\n",
      "\n",
      "for internall faith is in its own nature invisible , and consequently exempted from all humane jurisdiction ; whereas the words , and actions that proceed from it , as breaches of our civil obedience , are injustice both before god and man .\n",
      "\n",
      "\n",
      "seeing then our saviour , and his apostles , left not new laws to oblige us in this world , but new doctrine to prepare us for the next ; the books of the new testament , which containe that doctrine , untill obedience to them was commanded , by them that god hath given power to on earth to be legislators , were not obligatory canons , that is , laws , but onely good , and safe advice , for the direction of sinners in the way to salvation , which every man might take , and refuse at his owne perill , without injustice .\n",
      "\n",
      "\n",
      "for though god be the soveraign of all the world , we are not bound to take for his law , whatsoever is propounded by every man in his name ; nor any thing contrary to the civill law , which god hath expressely commanded us to obey .\n",
      "\n",
      "\n",
      "in that hee useth the word , which the holy ghost used at his calling : for he stileth himself , `` an apostle separated unto the gospel of god ; '' alluding to the words of the holy ghost , `` separate me barnabas and saul , & c. '' but seeing the work of an apostle , was to be a witnesse of the resurrection of christ , and man may here aske , how s. paul that conversed not with our saviour before his passion , could know he was risen .\n",
      "\n",
      "\n",
      "ministers of the church what the word minister in the originall diakonos signifieth one that voluntarily doth the businesse of another man ; and differeth from a servant onely in this , that servants are obliged by their condition , to what is commanded them ; whereas ministers are obliged onely by their undertaking , and bound therefore to no more than that they have undertaken : so that both they that teach the word of god , and they that administer the secular affairs of the church , are both ministers , but they are ministers of different persons .\n",
      "\n",
      "\n",
      "the priests and scribes seeking to kill our saviour at the passeover , and judas possessed with a resolution to betray him , and the day of killing the passeover being come , our saviour celebrated the same with his apostles , which he said , till the kingdome of god was come hee would doe no more ; and withall told them , that one of them was to betray him : hereupon they questioned , which of them it should be ; and withall ( seeing the next passeover their master would celebrate should be when he was king ) entred into a contention , who should then be the greater man .\n",
      "\n",
      "\n",
      "`` the man that will doe presumptuously , and will not hearken unto the priest , ( that standeth to minister there before the lord thy god , or unto the judge , ) even that man shall die , and thou shalt put away the evill from israel . ''\n",
      "\n",
      "\n",
      "`` you know what commandements we gave you : '' where the greek word is paraggelias edokamen , equivalent to paredokamen , what wee delivered to you , as in the place next before alledged , which does not prove the traditions of the apostles , to be any more than counsells ; though as is said in the 8th verse , `` he that despiseth them , despiseth not man , but god '' : for our saviour himself came not to judge , that is , to be king in this world ; but to sacrifice himself for sinners , and leave doctors in his church , to lead , not to drive men to christ , who never accepteth forced actions , ( which is all the law produceth , ) but the inward conversion of the heart ; which is not the work of laws , but of counsell , and doctrine .\n",
      "\n",
      "\n",
      "the fourth , is taken from the inequality of their jurisdictions : for if god ( saith he ) had given it them immediately , he had given aswell equality of jurisdiction , as of order : but wee see , some are bishops but of own town , some of a hundred towns , and some of many whole provinces ; which differences were not determined by the command of god ; their jurisdiction therefore is not of god , but of man ; and one has a greater , another a lesse , as it pleaseth the prince of the church .\n",
      "\n",
      "\n",
      "the difficulty of obeying god and man both at once the most frequent praetext of sedition , and civill warre , in christian common-wealths hath a long time proceeded from a difficulty , not yet sufficiently resolved , of obeying at once , both god , and man , then when their commandements are one contrary to the other .\n",
      "\n",
      "\n",
      "and this law of god , that commandeth obedience to the law civill , commandeth by consequence obedience to all the precepts of the bible , which ( as i have proved in the precedent chapter ) is there onely law , where the civill soveraign hath made it so ; and in other places but counsell ; which a man at his own perill , may without injustice refuse to obey .\n",
      "\n",
      "\n",
      "the causes of christian faith the causes why men beleeve any christian doctrine , are various ; for faith is the gift of god ; and he worketh it in each severall man , by such wayes , as it seemeth good unto himself .\n",
      "\n",
      "\n",
      "in what sense other articles may be called necessary but a man may here aske , whether it bee not as necessary to salvation , to beleeve , that god is omnipotent ; creator of the world ; that jesus christ is risen ; and that all men else shall rise again from the dead at the last day ; as to beleeve , that jesus is the christ .\n",
      "\n",
      "\n",
      "and first , if by righteousnesse be understood the justice of the works themselves , there is no man that can be saved ; for there is none that hath not transgressed the law of god .\n",
      "\n",
      "\n",
      "but a man is then also said to be justified , when his plea , though in it selfe unsufficient , is accepted ; as when we plead our will , our endeavour to fulfill the law , and repent us of our failings , and god accepteth it for the performance it selfe : and because god accepteth not the will for the deed , but onely in the faithfull ; it is therefore faith that makes good our plea ; and in this sense it is , that faith onely justifies : so that faith and obedience are both necessary to salvation ; yet in severall senses each of them is said to justifie .\n",
      "\n",
      "\n",
      "as that the kingdome of god is the present church consequent to this errour , that the present church is christs kingdome , there ought to be some one man , or assembly , by whose mouth our saviour ( now in heaven ) speaketh , giveth law , and which representeth his person to all christians , or divers men , or divers assemblies that doe the same to divers parts of christendome .\n",
      "\n",
      "\n",
      "to consecrate , is in scripture , to offer , give , or dedicate , in pious and decent language and gesture , a man , or any other thing to god , by separating of it from common use ; that is to say , to sanctifie , or make it gods , and to be used only by those , whom god hath appointed to be his publike ministers , ( as i have already proved at large in the 35 .\n",
      "\n",
      "\n",
      "and yet in this daily act of the priest , they doe the very same , by turning the holy words into the manner of a charme , which produceth nothing now to the sense ; but they face us down , that it hath turned the bread into a man ; nay more , into a god ; and require men to worship it , as if it were our saviour himself present god and man , and thereby to commit most grosse idolatry .\n",
      "\n",
      "\n",
      "for though we read plainly in holy scripture , that god created adam in an estate of living for ever , which was conditionall , that is to say , if he disobeyed not his commandement ; which was not essentiall to humane nature , but consequent to the vertue of the tree of life ; whereof hee had liberty to eat , as long as hee had not sinned ; and that hee was thrust out of paradise after he had sinned , lest hee should eate thereof , and live for ever ; and that christs passion is a discharge of sin to all that beleeve on him ; and by consequence , a restitution of eternall life , to all the faithfull , and to them onely : yet the doctrine is now , and hath been a long time far otherwise ; namely , that every man hath eternity of life by nature , in as much as his soul is immortall : so that the flaming sword at the entrance of paradise , though it hinder a man from coming to the tree of life , hinders him not from the immortality which god took from him for his sin ; nor makes him to need the sacrificing of christ , for the recovering of the same ; and consequently , not onely the faithfull and righteous , but also the wicked , and the heathen , shall enjoy eternall life , without any death at all ; much lesse a second , and everlasting death .\n",
      "\n",
      "\n",
      "for supposing that when a man dies , there remaineth nothing of him but his carkasse ; can not god that raised inanimated dust and clay into a living creature by his word , as easily raise a dead carkasse to life again , and continue him alive for ever , or make him die again , by another word ?\n",
      "\n",
      "\n",
      "in the fift day of the creation , god said , let the water produce reptile animae viventis , the creeping thing that hath in it a living soule ; the english translate it , `` that hath life : '' and again , god created whales , `` & omnem animam viventem ; '' which in the english is , '' every living creature : '' and likewise of man , god made him of the dust of the earth , and breathed in his face the breath of life , `` & factus est homo in animam viventem , '' that is , `` and man was made a living creature ; '' and after noah came out of the arke , god saith , hee will no more smite '' omnem animam viventem , '' that is `` every living creature ; '' and deut .\n",
      "\n",
      "\n",
      "which may bear well enough ( if there be no other text directly against it ) this interpretation , that god onely knows , ( but man not , ) what becomes of a mans spirit , when he expireth ; and the same solomon , in the same book , ( chap .\n",
      "\n",
      "\n",
      "another place which seems to make for a naturall immortality of the soule , is that , where our saviour saith , that abraham , isaac , and jacob are living : but this is spoken of the promise of god , and of their certitude to rise again , not of a life then actuall ; and in the same sense that god said to adam , that on the day hee should eate of the forbidden fruit , he should certainly die ; from that time forward he was a dead man by sentence ; but not by execution , till almost a thousand years after .\n",
      "\n",
      "\n",
      "also , it seemeth hard , to say , that god who is the father of mercies , that doth in heaven and earth all that hee will ; that hath the hearts of all men in his disposing ; that worketh in men both to doe , and to will ; and without whose free gift a man hath neither inclination to good , nor repentance of evill , should punish mens transgressions without any end of time , and with all the extremity of torture , that men can imagine , and more .\n",
      "\n",
      "\n",
      "but that the bodies of the reprobate , who make the kingdome of satan , shall also be glorious , or spirituall bodies , or that they shall bee as the angels of god , neither eating , nor drinking , nor engendring ; or that their life shall be eternall in their individuall persons , as the life of every faithfull man is , or as the life of adam had been if hee had not sinned , there is no place of scripture to prove it ; save onely these places concerning eternall torments ; which may otherwise be interpreted .\n",
      "\n",
      "\n",
      "for god , that could give a life to a peece of clay , hath the same power to give life again to a dead man , and renew his inanimate , and rotten carkasse , into a glorious , spirituall , and immortall body .\n",
      "\n",
      "\n",
      "therefore whereas they thought the sixth commandement was not broken , but by killing a man ; nor the seventh , but when a man lay with a woman , not his wife ; our saviour tells them , the inward anger of a man against his brother , if it be without just cause , is homicide : you have heard ( saith hee ) the law of moses , `` thou shalt not kill , '' and that `` whosoever shall kill , shall be condemned before the judges , '' or before the session of the seventy : but i say unto you , to be angry with ones brother without cause ; or to say unto him racha , or foole , is homicide , and shall be punished at the day of judgment , and session of christ , and his apostles , with hell fire : so that those words were not used to distinguish between divers crimes , and divers courts of justice , and divers punishments ; but to taxe the distinction between sin , and sin , which the jews drew not from the difference of the will in obeying god , but from the difference of their temporall courts of justice ; and to shew them that he that had the will to hurt his brother , though the effect appear but in reviling , or not at all , shall be cast into hell fire , by the judges , and by the session , which shall be the same , not different courts at the day of judgment .\n",
      "\n",
      "\n",
      "of daemonology , and other reliques of the religion of the gentiles the originall of daemonology the impression made on the organs of sight , by lucide bodies , either in one direct line , or in many lines , reflected from opaque , or refracted in the passage through diaphanous bodies , produceth in living creatures , in whom god hath placed such organs , an imagination of the object , from whence the impression proceedeth ; which imagination is called sight ; and seemeth not to bee a meer imagination , but the body it selfe without us ; in the same manner , as when a man violently presseth his eye , there appears to him a light without , and before him , which no man perceiveth but himselfe ; because there is indeed no such thing without him , but onely a motion in the interiour organs , pressing by resistance outward , that makes him think so .\n",
      "\n",
      "\n",
      "for god being king of the jews , and his lieutenant being first moses , and afterward the high priest ; if the people had been permitted to worship , and pray to images , ( which are representations of their own fancies , ) they had had no farther dependence on the true god , of whom there can be no similitude ; nor on his prime ministers , moses , and the high priests ; but every man had governed himself according to his own appetite , to the utter eversion of the common-wealth , and their own destruction for want of union .\n",
      "\n",
      "\n",
      "to fall prostrate before a king , in him that thinks him but a man , is but civill worship : and he that but putteth off his hat in the church , for this cause , that he thinketh it the house of god , worshippeth with divine worship .\n",
      "\n",
      "\n",
      "it is also evident , that there can be no image of a thing infinite : for all the images , and phantasmes that are made by the impression of things visible , are figured : but figure is a quantity every way determined : and therefore there can bee no image of god : nor of the soule of man ; nor of spirits , but onely of bodies visible , that is , bodies that have light in themselves , or are by such enlightened .\n",
      "\n",
      "\n",
      "on the other side , if a king compell a man to it by the terrour of death , or other great corporall punishment , it is not idolatry : for the worship which the soveraign commandeth to bee done unto himself by the terrour of his laws , is not a sign that he that obeyeth him , does inwardly honour him as a god , but that he is desirous to save himselfe from death , or from a miserable life ; and that which is not a sign of internall honor , is no worship ; and therefore no idolatry .\n",
      "\n",
      "\n",
      "the gentiles worshipped for gods , jupiter , and others ; that living , were men perhaps that had done great and glorious acts ; and for the children of god , divers men and women , supposing them gotten between an immortall deity , and a mortall man .\n",
      "\n",
      "\n",
      "but though our saviour was a man , whom wee also beleeve to bee god immortall , and the son of god ; yet this is no idolatry ; because wee build not that beleef upon our own fancy , or judgment , but upon the word of god revealed in the scriptures .\n",
      "\n",
      "\n",
      "the summe of that which i have said hitherto , concerning the worship of images , is that , that he that worshippeth in an image , or any creature , either the matter thereof , or any fancy of his own , which he thinketh to dwell in it ; or both together ; or beleeveth that such things hear his prayers , or see his devotions , without ears , or eyes , committeth idolatry : and he that counterfeiteth such worship for fear of punishment , if he bee a man whose example hath power amongst his brethren , committeth a sin : but he that worshippeth the creator of the world before such an image , or in such a place as he hath not made , or chosen of himselfe , but taken from the commandement of gods word , as the jewes did in worshipping god before the cherubins , and before the brazen serpent for a time , and in , or towards the temple of jerusalem , which was also but for a time , committeth not idolatry .\n",
      "\n",
      "\n",
      "answer to the argument from the cherubins , and brazen serpent as for the proofs alledged out of scripture , namely , those examples of images appointed by god to bee set up ; they were not set up for the people , or any man to worship ; but that they should worship god himselfe before them : as before the cherubins over the ark , and the brazen serpent .\n",
      "\n",
      "\n",
      "and though some man may think it impossible for people to be so stupid , as to think the image to be god , or a saint ; or to worship it in that notion ; yet it is manifest in scripture to the contrary ; where when the golden calfe was made , the people said , ( exod .\n",
      "\n",
      "\n",
      "seeing therefore there is no authority , neither in the law of moses , nor in the gospel , for the religious worship of images , or other representations of god , which men set up to themselves ; or for the worship of the image of any creature in heaven , or earth , or under the earth : and whereas christian kings , who are living representants of god , are not to be worshipped by their subjects , by any act , that signifieth a greater esteem of his power , than the nature of mortall man is capable of ; it can not be imagined , that the religious worship now in use , was brought into the church , by misunderstanding of the scripture .\n",
      "\n",
      "\n",
      "can any man think that god is served with such absurdities ?\n",
      "\n",
      "\n",
      "one body in many places , and many bodies in one place at once and whereas men divide a body in their thought , by numbring parts of it , and in numbring those parts , number also the parts of the place it filled ; it can not be , but in making many parts , wee make also many places of those parts ; whereby there can not bee conceived in the mind of any man , more , or fewer parts , than there are places for : yet they will have us beleeve , that by the almighty power of god , one body may be at one and the same time in many places ; and many bodies at one and the same time in one place ; as if it were an acknowledgment of the divine power , to say , that which is , is not ; or that which has been , has not been .\n",
      "\n",
      "\n",
      "if a man doe an action of injustice , that is to say , an action contrary to the law , god they say is the prime cause of the law , and also the prime cause of that , and all other actions ; but no cause at all of the injustice ; which is the inconformity of the action to the law .\n",
      "\n",
      "\n",
      "and such is the philosophy of all men that resolve of their conclusions , before they know their premises ; pretending to comprehend , that which is incomprehensible ; and of attributes of honour to make attributes of nature ; as this distinction was made to maintain the doctrine of free-will , that is , of a will of man , not subject to the will of god .\n",
      "\n",
      "\n",
      "if the law were made because the use of wives is incontinence , and contrary to chastity , then all marriage is vice ; if because it is a thing too impure , and unclean for a man consecrated to god ; much more should other naturall , necessary , and daily works which all men doe , render men unworthy to bee priests , because they are more unclean .\n",
      "\n",
      "\n",
      "i say they might have hindred the same in the beginning : but when the people were once possessed by those spirituall men , there was no humane remedy to be applyed , that any man could invent : and for the remedies that god should provide , who never faileth in his good time to destroy all the machinations of men against the truth , wee are to attend his good pleasure , that suffereth many times the prosperity of his enemies , together with their ambition , to grow to such a height , as the violence thereof openeth the eyes , which the warinesse of their predecessours had before sealed up , and makes men by too much grasping let goe all , as peters net was broken , by the struggling of too great a multitude of fishes ; whereas the impatience of those , that strive to resist such encroachment , before their subjects eyes were opened , did but encrease the power they resisted .\n",
      "\n",
      "\n",
      "after this , the presbyterians lately in england obtained the putting down of episcopacy : and so was the second knot dissolved : and almost at the same time , the power was taken also from the presbyterians : and so we are reduced to the independency of the primitive christians to follow paul , or cephas , or apollos , every man as he liketh best : which , if it be without contention , and without measuring the doctrine of christ , by our affection to the person of his minister , ( the fault which the apostle reprehended in the corinthians , ) is perhaps the best : first , because there ought to be no power over the consciences of men , but of the word it selfe , working faith in every one , not alwayes according to the purpose of them that plant and water , but of god himself , that giveth the increase : and secondly , because it is unreasonable in them , who teach there is such danger in every little errour , to require of a man endued with reason of his own , to follow the reason of any other man , or of the most voices of many other men ; which is little better , then to venture his salvation at crosse and pile .\n",
      "\n",
      "\n",
      "neverthelesse , this manner of proceeding being not throughly understood , hath given occasion to a dangerous opinion , that any man may kill another , is some cases , by a right of zeal ; as if the executions done upon offenders in the kingdome of god in old time , proceeded not from the soveraign command , but from the authority of private zeal : which , if we consider the texts that seem to favour it , is quite contrary .\n",
      "\n",
      "\n",
      "the processe against idolatry is exactly set down : for god there speaketh to the people , as judge , and commandeth them , when a man is accused of idolatry , to enquire diligently of the fact , and finding it true , then to stone him ; but still the hand of the witnesse throweth the first stone .\n",
      "\n",
      "\n"
     ]
    }
   ],
   "source": [
    "for s in man_god: # make the results a bit more readable\n",
    "    print(' '.join(s))\n",
    "    print('\\n')"
   ]
  },
  {
   "cell_type": "markdown",
   "metadata": {},
   "source": [
    "Get all sentences which discuss **man**, or its plural **men**, and **God**."
   ]
  },
  {
   "cell_type": "code",
   "execution_count": 83,
   "metadata": {},
   "outputs": [
    {
     "name": "stdout",
     "output_type": "stream",
     "text": [
      "248\n"
     ]
    }
   ],
   "source": [
    "men_god = []\n",
    "for sentence in tokenized_sentences:\n",
    "    if ('man' in sentence or 'men' in sentence) and ('god' in sentence):\n",
    "        men_god.append(sentence)\n",
    "print(len(men_god))"
   ]
  },
  {
   "cell_type": "markdown",
   "metadata": {},
   "source": [
    "## Normalizing Texts: Stemming and Lemmatizing"
   ]
  },
  {
   "cell_type": "markdown",
   "metadata": {},
   "source": [
    "### Stemming"
   ]
  },
  {
   "cell_type": "markdown",
   "metadata": {},
   "source": [
    "Stemming, in its literal sense, amounts to cutting down the branches of a tree to its stem. But also tokens can be reduced to their stem. **Stemming is a crude, rule-based process by which we want to group together different variations of a token.** For example, the word 'eat' will have variations like 'eating', 'eaten', 'eats', and so on. In some applications, when does **not make sense to differentiate between 'eat' and 'eaten'**, we typically use stemming to reduce these grammatical variances to the root of the word."
   ]
  },
  {
   "cell_type": "code",
   "execution_count": 73,
   "metadata": {
    "collapsed": true
   },
   "outputs": [],
   "source": [
    "from nltk.stem import PorterStemmer\n",
    "from nltk.tokenize import word_tokenize"
   ]
  },
  {
   "cell_type": "code",
   "execution_count": 84,
   "metadata": {},
   "outputs": [
    {
     "name": "stdout",
     "output_type": "stream",
     "text": [
      "love\n",
      "love\n"
     ]
    }
   ],
   "source": [
    "pst = PorterStemmer()\n",
    "print(pst.stem('loving'))\n",
    "print(pst.stem('loved'))"
   ]
  },
  {
   "cell_type": "markdown",
   "metadata": {
    "collapsed": true
   },
   "source": [
    "Above, we create a stemmer object and apply the `stem()` method to a string."
   ]
  },
  {
   "cell_type": "code",
   "execution_count": null,
   "metadata": {
    "collapsed": true
   },
   "outputs": [],
   "source": [
    "tokens = word_tokenize('love loved loving flower flowers dogs dog')\n",
    "stems = [pst.stem(w) for w in tokens]\n",
    "print(stems)"
   ]
  },
  {
   "cell_type": "markdown",
   "metadata": {},
   "source": [
    "**Exercise**: Download the Bible, stem it, and count how often the stem 'love' appears (use the percentage function above). Compare this percentage with a non-stemmed version of the Bible.\n",
    "> Tip: use the count method\n",
    "\n",
    "> l = ['a','a','b','c']\n",
    "\n",
    "> l.count('a')"
   ]
  },
  {
   "cell_type": "code",
   "execution_count": 86,
   "metadata": {},
   "outputs": [
    {
     "name": "stdout",
     "output_type": "stream",
     "text": [
      "311\n",
      "418\n"
     ]
    }
   ],
   "source": [
    "bible_url = 'http://www.gutenberg.org/cache/epub/10/pg10.txt'\n",
    "\n",
    "text_lower = requests.get(bible_url).text.lower() # download and lowercase the Bible\n",
    "\n",
    "tokenized_bible = word_tokenize(text_lower) # tokenize the Bible by word\n",
    "\n",
    "stemmed_bible = [] # place to store the stemmed version of the bible\n",
    "\n",
    "for token in tokenized_bible: # iterate over each token in the tokenized Bible\n",
    "    \n",
    "    stem = pst.stem(token) # stem each token\n",
    "    stemmed_bible.append(stem) # append the stemmed token to the list with the name stemmed_bible\n",
    "    \n",
    "print(tokenized_bible.count('love'))\n",
    "print(stemmed_bible.count('love'))"
   ]
  },
  {
   "cell_type": "markdown",
   "metadata": {},
   "source": [
    "### Lemmatization"
   ]
  },
  {
   "cell_type": "markdown",
   "metadata": {},
   "source": [
    "Lemmatization is a more **methodical** way of converting all the **grammatical/inflected** forms of the root of the word. Lemmatization uses context and **part of speech** (see below) to determine the inflected form of the word and applies **different normalization** rules for each part of speech to get the root word."
   ]
  },
  {
   "cell_type": "code",
   "execution_count": null,
   "metadata": {
    "collapsed": true
   },
   "outputs": [],
   "source": [
    "from nltk.stem.wordnet import WordNetLemmatizer"
   ]
  },
  {
   "cell_type": "code",
   "execution_count": null,
   "metadata": {
    "collapsed": true
   },
   "outputs": [],
   "source": [
    "wlem = WordNetLemmatizer()"
   ]
  },
  {
   "cell_type": "code",
   "execution_count": null,
   "metadata": {
    "collapsed": true
   },
   "outputs": [],
   "source": [
    "print(wlem.lemmatize(\"flowers\",pos='n'))\n",
    "print(wlem.lemmatize(\"was\",pos='v'))"
   ]
  },
  {
   "cell_type": "code",
   "execution_count": null,
   "metadata": {
    "collapsed": true
   },
   "outputs": [],
   "source": [
    "print(wlem.lemmatize(\"run\",pos='v'))\n",
    "print(wlem.lemmatize(\"ran\",pos='v'))"
   ]
  },
  {
   "cell_type": "code",
   "execution_count": null,
   "metadata": {
    "collapsed": true
   },
   "outputs": [],
   "source": [
    "print(pst.stem('run'))\n",
    "print(pst.stem('ran'))"
   ]
  },
  {
   "cell_type": "code",
   "execution_count": null,
   "metadata": {
    "collapsed": true
   },
   "outputs": [],
   "source": [
    "print(wlem.lemmatize(\"mouse\",pos='n'))\n",
    "print(wlem.lemmatize(\"mice\",pos='n'))"
   ]
  },
  {
   "cell_type": "code",
   "execution_count": null,
   "metadata": {
    "collapsed": true
   },
   "outputs": [],
   "source": [
    "print(pst.stem('mouse'))\n",
    "print(pst.stem('mice'))"
   ]
  },
  {
   "cell_type": "markdown",
   "metadata": {
    "collapsed": true
   },
   "source": [
    "### From File to Text"
   ]
  },
  {
   "cell_type": "markdown",
   "metadata": {},
   "source": [
    "You can also interrogate text outside of the NLTK corpus. You only need to tokenize the text first. Let's download Tolstoy's \"Childhood\"."
   ]
  },
  {
   "cell_type": "code",
   "execution_count": 87,
   "metadata": {
    "collapsed": true
   },
   "outputs": [],
   "source": [
    "import nltk\n",
    "url = 'http://www.gutenberg.org/files/2142/2142-0.txt'\n",
    "text = requests.get(url).text\n",
    "tokens = word_tokenize(text)\n",
    "nltk_text = nltk.text.Text(tokens)"
   ]
  },
  {
   "cell_type": "markdown",
   "metadata": {},
   "source": [
    "Now you can apply all the NLTK methods to this book! Enjoy!"
   ]
  },
  {
   "cell_type": "markdown",
   "metadata": {},
   "source": [
    "**Exercise**: apply the `concordance`, `similar`, `collocation` and `dispersion_plot` to this book (or another book of your choice, preferably one you are familiar with)"
   ]
  },
  {
   "cell_type": "code",
   "execution_count": 89,
   "metadata": {},
   "outputs": [
    {
     "name": "stdout",
     "output_type": "stream",
     "text": [
      "Displaying 13 of 13 matches:\n",
      "                                   Childhood , by Leo Tolstoy This eBook is for\n",
      "nline at www.gutenberg.org Title : Childhood Author : Leo Tolstoy Release Date \n",
      "RT OF THIS PROJECT GUTENBERG EBOOK CHILDHOOD *** Produced by Martin Adamson and\n",
      "by Martin Adamson and David Widger CHILDHOOD By Leo Tolstoy Translated by C.J .\n",
      "od passed away before long . XV -- CHILDHOOD HAPPY , happy , never-returning ti\n",
      " , happy , never-returning time of childhood ! How can we help loving and dwell\n",
      "g all my soul . The sound sleep of childhood is weighing my eyelids down , and \n",
      " return which we experience in our childhood ’ s years ? What better time is th\n",
      "et how I have often longed , since childhood ’ s days , for those days to come \n",
      "mma ’ s death the happy time of my childhood came to an end , and a new epoch -\n",
      "h she had been accustomed from her childhood up . Consequently grief , the alte\n",
      " of the Project Gutenberg EBook of Childhood , by Leo Tolstoy *** END OF THIS P\n",
      "ND OF THIS PROJECT GUTENBERG EBOOK CHILDHOOD *** ***** This file should be name\n"
     ]
    }
   ],
   "source": [
    "nltk_text.concordance('childhood')"
   ]
  },
  {
   "cell_type": "markdown",
   "metadata": {},
   "source": [
    "### Counting words made easy (look at 4.2 Dictionaries for more explanations)"
   ]
  },
  {
   "cell_type": "code",
   "execution_count": 1,
   "metadata": {},
   "outputs": [
    {
     "name": "stdout",
     "output_type": "stream",
     "text": [
      "<FreqDist with 24 samples and 34 outcomes>\n"
     ]
    }
   ],
   "source": [
    "from nltk import FreqDist\n",
    "from nltk.tokenize import word_tokenize\n",
    "sentence = 'We see, therefore, how the modern bourgeoisie is itself the product of a long course of development, of a series of revolutions in the modes of production and of exchange.'\n",
    "tokens = word_tokenize(sentence.lower())\n",
    "fd = FreqDist(tokens)\n",
    "print(fd)"
   ]
  },
  {
   "cell_type": "code",
   "execution_count": 2,
   "metadata": {},
   "outputs": [
    {
     "data": {
      "text/plain": [
       "dict_keys(['we', 'see', ',', 'therefore', 'how', 'the', 'modern', 'bourgeoisie', 'is', 'itself', 'product', 'of', 'a', 'long', 'course', 'development', 'series', 'revolutions', 'in', 'modes', 'production', 'and', 'exchange', '.'])"
      ]
     },
     "execution_count": 2,
     "metadata": {},
     "output_type": "execute_result"
    }
   ],
   "source": [
    "fd.keys()"
   ]
  },
  {
   "cell_type": "code",
   "execution_count": 3,
   "metadata": {},
   "outputs": [
    {
     "data": {
      "text/plain": [
       "3"
      ]
     },
     "execution_count": 3,
     "metadata": {},
     "output_type": "execute_result"
    }
   ],
   "source": [
    "fd['the']"
   ]
  },
  {
   "cell_type": "code",
   "execution_count": 4,
   "metadata": {},
   "outputs": [
    {
     "data": {
      "text/plain": [
       "1"
      ]
     },
     "execution_count": 4,
     "metadata": {},
     "output_type": "execute_result"
    }
   ],
   "source": [
    "fd['production']"
   ]
  },
  {
   "cell_type": "markdown",
   "metadata": {},
   "source": [
    "## Syntactic Analysis"
   ]
  },
  {
   "cell_type": "markdown",
   "metadata": {},
   "source": [
    "### Part of Speech Tagging"
   ]
  },
  {
   "cell_type": "markdown",
   "metadata": {
    "collapsed": true
   },
   "source": [
    "A part-of-speech tagger, or POS-tagger, processes a sequence of words, and attaches a part of speech tag to each word:"
   ]
  },
  {
   "cell_type": "code",
   "execution_count": 90,
   "metadata": {},
   "outputs": [
    {
     "data": {
      "text/plain": [
       "[('And', 'CC'),\n",
       " ('now', 'RB'),\n",
       " ('for', 'IN'),\n",
       " ('something', 'NN'),\n",
       " ('completely', 'RB'),\n",
       " ('different', 'JJ')]"
      ]
     },
     "execution_count": 90,
     "metadata": {},
     "output_type": "execute_result"
    }
   ],
   "source": [
    "from nltk import pos_tag\n",
    "tokens = word_tokenize(\"And now for something completely different\")\n",
    "tagged = pos_tag(tokens)\n",
    "tagged"
   ]
  },
  {
   "cell_type": "markdown",
   "metadata": {},
   "source": [
    "We have seen how to iterate over a list. The output of `pos_tag` returns a list of **tuples** which we can **unpack** using the following notation:"
   ]
  },
  {
   "cell_type": "code",
   "execution_count": null,
   "metadata": {
    "collapsed": true
   },
   "outputs": [],
   "source": [
    "first_element = tagged[0]\n",
    "print('Tuple = ',first_element)\n",
    "word,tag = first_element\n",
    "print('Word = ',word)\n",
    "print('Tag = ',tag)"
   ]
  },
  {
   "cell_type": "code",
   "execution_count": null,
   "metadata": {
    "collapsed": true
   },
   "outputs": [],
   "source": [
    "for word,tag in tagged:\n",
    "    print('This is a word',word)\n",
    "    print('This is a tag',tag)"
   ]
  },
  {
   "cell_type": "markdown",
   "metadata": {},
   "source": [
    "This is similar but slightly more elegant than:"
   ]
  },
  {
   "cell_type": "code",
   "execution_count": null,
   "metadata": {
    "collapsed": true
   },
   "outputs": [],
   "source": [
    "for element in tagged:\n",
    "    print('This is a word',element[0])\n",
    "    print('This is a tag',element[1])"
   ]
  },
  {
   "cell_type": "markdown",
   "metadata": {},
   "source": [
    "Again, you are free to choose the variable names, but it should match the number of items in each tuple. For example, this will raise a `ValueError`:"
   ]
  },
  {
   "cell_type": "code",
   "execution_count": 91,
   "metadata": {},
   "outputs": [
    {
     "ename": "ValueError",
     "evalue": "not enough values to unpack (expected 3, got 2)",
     "output_type": "error",
     "traceback": [
      "\u001b[0;31m---------------------------------------------------------------------------\u001b[0m",
      "\u001b[0;31mValueError\u001b[0m                                Traceback (most recent call last)",
      "\u001b[0;32m<ipython-input-91-f6008a1b3114>\u001b[0m in \u001b[0;36m<module>\u001b[0;34m()\u001b[0m\n\u001b[0;32m----> 1\u001b[0;31m \u001b[0;32mfor\u001b[0m \u001b[0mword\u001b[0m\u001b[0;34m,\u001b[0m\u001b[0mtag\u001b[0m\u001b[0;34m,\u001b[0m\u001b[0msomething_else\u001b[0m \u001b[0;32min\u001b[0m \u001b[0mtagged\u001b[0m\u001b[0;34m:\u001b[0m\u001b[0;34m\u001b[0m\u001b[0m\n\u001b[0m\u001b[1;32m      2\u001b[0m     \u001b[0mprint\u001b[0m\u001b[0;34m(\u001b[0m\u001b[0;34m'This is a word'\u001b[0m\u001b[0;34m,\u001b[0m\u001b[0mword\u001b[0m\u001b[0;34m)\u001b[0m\u001b[0;34m\u001b[0m\u001b[0m\n\u001b[1;32m      3\u001b[0m     \u001b[0mprint\u001b[0m\u001b[0;34m(\u001b[0m\u001b[0;34m'This is a tag'\u001b[0m\u001b[0;34m,\u001b[0m\u001b[0mtag\u001b[0m\u001b[0;34m)\u001b[0m\u001b[0;34m\u001b[0m\u001b[0m\n",
      "\u001b[0;31mValueError\u001b[0m: not enough values to unpack (expected 3, got 2)"
     ]
    }
   ],
   "source": [
    "for word,tag,something_else in tagged:\n",
    "    print('This is a word',word)\n",
    "    print('This is a tag',tag)"
   ]
  },
  {
   "cell_type": "markdown",
   "metadata": {},
   "source": [
    "NLTK provides documentation for each tag, which can be queried using the tag, e.g. `nltk.help.upenn_tagset('RB')`. An overview of all the Part-of-Speech tags you'll find [here](https://www.ling.upenn.edu/courses/Fall_2003/ling001/penn_treebank_pos.html)."
   ]
  },
  {
   "cell_type": "code",
   "execution_count": null,
   "metadata": {
    "collapsed": true
   },
   "outputs": [],
   "source": [
    "# what does 'RB' mean\n",
    "nltk.help.upenn_tagset('RB')"
   ]
  },
  {
   "cell_type": "markdown",
   "metadata": {},
   "source": [
    "**Exercise**: Collect all the nouns in \"The Communist Manifesto\" of Marx and Engels.\n",
    "> Tip use the `startswith()` method!"
   ]
  },
  {
   "cell_type": "code",
   "execution_count": 93,
   "metadata": {
    "collapsed": true
   },
   "outputs": [],
   "source": [
    "url = 'http://www.gutenberg.org/cache/epub/61/pg61.txt'"
   ]
  },
  {
   "cell_type": "code",
   "execution_count": 97,
   "metadata": {
    "collapsed": true
   },
   "outputs": [],
   "source": [
    "text = requests.get(url).text # load the text\n",
    "\n",
    "tokens = word_tokenize(text) # tokenize the text\n",
    "\n",
    "pos_tagged = pos_tag(tokens) # part of speech tag the tokenized text, this can take a while"
   ]
  },
  {
   "cell_type": "code",
   "execution_count": 98,
   "metadata": {},
   "outputs": [
    {
     "name": "stdout",
     "output_type": "stream",
     "text": [
      "[('Allen', 'NNP'), ('Lutins', 'NNP'), ('with', 'IN'), ('assistance', 'NN'), ('from', 'IN'), ('Jim', 'NNP'), ('Tarzia', 'NNP'), ('.', '.'), ('MANIFESTO', 'NNP'), ('OF', 'IN'), ('THE', 'NNP'), ('COMMUNIST', 'NNP'), ('PARTY', 'NNP'), ('[', 'NN'), ('From', 'IN'), ('the', 'DT'), ('English', 'NNP'), ('edition', 'NN'), ('of', 'IN'), ('1888', 'CD')]\n"
     ]
    }
   ],
   "source": [
    "print(pos_tagged[100:120]) # inspect the data"
   ]
  },
  {
   "cell_type": "code",
   "execution_count": 101,
   "metadata": {},
   "outputs": [
    {
     "name": "stdout",
     "output_type": "stream",
     "text": [
      "4365\n",
      "['Spectre', 'Communism', 'Manifesto', 'party', 'end', 'Communists', 'nationalities', 'London', 'Manifesto', 'English']\n"
     ]
    }
   ],
   "source": [
    "nouns = []\n",
    "for word,tag in pos_tagged:\n",
    "    if tag.startswith('NN'):\n",
    "        nouns.append(word)\n",
    "    \n",
    "print(len(nouns))\n",
    "print(nouns[100:110])"
   ]
  },
  {
   "cell_type": "markdown",
   "metadata": {},
   "source": [
    "**Difficult Exercise**: Collect all [bigrams](https://en.wikipedia.org/wiki/Bigram) (sequence of two words) that start with an adjective and end with a noun.\n",
    "> Tip: Use index notation as shown below (below I apply it to string)"
   ]
  },
  {
   "cell_type": "code",
   "execution_count": null,
   "metadata": {
    "collapsed": true
   },
   "outputs": [],
   "source": [
    "sentence = 'A spectre is haunting Europe.'\n",
    "print(len(sentence))\n",
    "print(range(len(sentence)))\n",
    "\n",
    "for i in range(len(sentence)):\n",
    "    print(i)"
   ]
  },
  {
   "cell_type": "code",
   "execution_count": null,
   "metadata": {
    "collapsed": true
   },
   "outputs": [],
   "source": [
    "for i in range(len(sentence)-1):\n",
    "    print(sentence[i],sentence[i+1])"
   ]
  },
  {
   "cell_type": "markdown",
   "metadata": {},
   "source": [
    "> Additional advice: use the following code in combination with the logical `and` operator:\n",
    "\n",
    "> example = ('common', 'JJ')\n",
    "\n",
    ">'JJ' in example[1]"
   ]
  },
  {
   "cell_type": "code",
   "execution_count": 105,
   "metadata": {},
   "outputs": [
    {
     "name": "stdout",
     "output_type": "stream",
     "text": [
      "1030\n",
      "[[('brutal', 'JJ'), ('exploitation', 'NN')], [('reverent', 'JJ'), ('awe', 'NN')], [('sentimental', 'JJ'), ('veil', 'NN')], [('mere', 'JJ'), ('money', 'NN')], [('brutal', 'JJ'), ('display', 'NN')], [('much', 'JJ'), ('admire', 'NN')], [('fitting', 'JJ'), ('complement', 'NN')], [('slothful', 'JJ'), ('indolence', 'NN')], [('Egyptian', 'JJ'), ('pyramids', 'NNS')], [('former', 'JJ'), ('Exoduses', 'NNS')]]\n"
     ]
    }
   ],
   "source": [
    "phrases = []\n",
    "for i in range(len(pos_tagged)-1):\n",
    "    if pos_tagged[i][1].startswith('JJ') and pos_tagged[i+1][1].startswith('NN'):\n",
    "        phrases.append(pos_tagged[i:i+2])\n",
    "    \n",
    "print(len(phrases))\n",
    "print(phrases[90:100])"
   ]
  },
  {
   "cell_type": "markdown",
   "metadata": {},
   "source": [
    "### Named Entity Recognition"
   ]
  },
  {
   "cell_type": "markdown",
   "metadata": {},
   "source": [
    "Python also has functions for more refined syntactic analysis and named entity recognition."
   ]
  },
  {
   "cell_type": "code",
   "execution_count": 106,
   "metadata": {},
   "outputs": [
    {
     "data": {
      "image/png": "[encoded data removed]",
      "text/plain": [
       "Tree('S', [Tree('PERSON', [('Mark', 'NNP')]), ('and', 'CC'), Tree('PERSON', [('John', 'NNP')]), ('are', 'VBP'), ('working', 'VBG'), ('at', 'IN'), Tree('ORGANIZATION', [('Google', 'NNP')]), ('.', '.')])"
      ]
     },
     "execution_count": 106,
     "metadata": {},
     "output_type": "execute_result"
    }
   ],
   "source": [
    "from nltk import word_tokenize, pos_tag, ne_chunk\n",
    "sentence = \"Mark and John are working at Google.\"\n",
    "ne= ne_chunk(pos_tag(word_tokenize(sentence)))\n",
    "ne"
   ]
  }
 ],
 "metadata": {
  "kernelspec": {
   "display_name": "Python 3",
   "language": "python",
   "name": "python3"
  },
  "language_info": {
   "codemirror_mode": {
    "name": "ipython",
    "version": 3
   },
   "file_extension": ".py",
   "mimetype": "text/x-python",
   "name": "python",
   "nbconvert_exporter": "python",
   "pygments_lexer": "ipython3",
   "version": "3.6.3"
  }
 },
 "nbformat": 4,
 "nbformat_minor": 2
}
